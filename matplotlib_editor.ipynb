{
  "cells": [
    {
      "cell_type": "markdown",
      "metadata": {
        "id": "OVQrHZ9TnuMg"
      },
      "source": [
        "# Matplotlib練習問題\n",
        "\n",
        " 1. 基本的なグラフの描画方法について学習します。（7問）\n",
        " 2. グラフの色や凡例・軸の編集の方法について学習します。（8問）\n",
        " 3. グラフの外観の設定方法について学習します。（5問）"
      ]
    },
    {
      "cell_type": "markdown",
      "metadata": {
        "id": "XjAtkgudnuMk"
      },
      "source": [
        "### 0. 事前準備"
      ]
    },
    {
      "cell_type": "markdown",
      "metadata": {
        "id": "8xXitDpInuMl"
      },
      "source": [
        "#### 0.1 「matplotlib.pyplotをpltという名前でインポートしこのnotebook上に図が表示されるようにして下さい。」"
      ]
    },
    {
      "cell_type": "code",
      "execution_count": null,
      "metadata": {
        "collapsed": true,
        "id": "Y1TBVa9-nuMm"
      },
      "outputs": [],
      "source": [
        "import matplotlib.pyplot as plt\n",
        "%matplotlib inline\n",
        "#フォントで警告が出る\n",
        "import warnings\n",
        "warnings.simplefilter('ignore')"
      ]
    },
    {
      "cell_type": "markdown",
      "metadata": {
        "id": "QK8w5SBLnuMo"
      },
      "source": [
        "#### 0.2 「以下のコードを実行してください。」"
      ]
    },
    {
      "cell_type": "code",
      "execution_count": null,
      "metadata": {
        "collapsed": true,
        "id": "4TaIn5lZnuMp"
      },
      "outputs": [],
      "source": [
        "import numpy as np\n",
        "import pandas as pd\n",
        "data = pd.DataFrame()\n",
        "np.random.seed(0)\n",
        "data['身長'] = np.random.normal(170, 5, 100)\n",
        "data['クラス'] = ['a', 'b', 'c', 'd'] * 25\n",
        "data['成績'] = [ 2, 5, 4, 1, 4, 3, 4, 2, 4, 5] * 10\n",
        "data['体重'] = np.random.normal(60, 3, 100)"
      ]
    },
    {
      "cell_type": "markdown",
      "metadata": {
        "id": "3XqxypUdnuMp"
      },
      "source": [
        "### 1. 基本的なグラフの描画方法について学習します。（7問）"
      ]
    },
    {
      "cell_type": "markdown",
      "metadata": {
        "id": "qmj_e-VJnuMq"
      },
      "source": [
        "#### 1.1 「dataの中身を表示してください。」"
      ]
    },
    {
      "cell_type": "code",
      "execution_count": null,
      "metadata": {
        "id": "S9IKoEMRnuMr"
      },
      "outputs": [],
      "source": []
    },
    {
      "cell_type": "markdown",
      "metadata": {
        "id": "9XPCO_ownuMr"
      },
      "source": [
        "#### 1.2 「data内の身長のヒストグラムをデフォルト設定で描画して下さい。」"
      ]
    },
    {
      "cell_type": "code",
      "execution_count": null,
      "metadata": {
        "id": "h5EtWJWUnuMs"
      },
      "outputs": [],
      "source": []
    },
    {
      "cell_type": "markdown",
      "metadata": {
        "id": "keEsZoYpnuMs"
      },
      "source": [
        "#### 1.3 「data内の体重の折れ線グラフをデフォルト設定で描画して下さい。」"
      ]
    },
    {
      "cell_type": "code",
      "execution_count": null,
      "metadata": {
        "id": "fBQgJPu-nuMs"
      },
      "outputs": [],
      "source": []
    },
    {
      "cell_type": "markdown",
      "metadata": {
        "id": "mR5l7G8rnuMt"
      },
      "source": [
        "#### 1.4 「data内の身長と体重の散布図をデフォルト設定で描画して下さい。」"
      ]
    },
    {
      "cell_type": "code",
      "execution_count": null,
      "metadata": {
        "id": "gRbGtGcmnuMt"
      },
      "outputs": [],
      "source": []
    },
    {
      "cell_type": "markdown",
      "metadata": {
        "id": "VcGNEuKQnuMt"
      },
      "source": [
        "#### 1.5 「散布図に回帰直線を追加してください。」"
      ]
    },
    {
      "cell_type": "code",
      "execution_count": null,
      "metadata": {
        "id": "Yk4CYMNRnuMu"
      },
      "outputs": [],
      "source": []
    },
    {
      "cell_type": "markdown",
      "metadata": {
        "id": "EH61Q-TdnuMu"
      },
      "source": [
        "#### 1.6 「グラフに「Regression-line」というタイトルを付けてください。」"
      ]
    },
    {
      "cell_type": "code",
      "execution_count": null,
      "metadata": {
        "id": "LmaR21ZknuMu"
      },
      "outputs": [],
      "source": []
    },
    {
      "cell_type": "markdown",
      "metadata": {
        "id": "70u7rwZInuMu"
      },
      "source": [
        "#### 1.7 「上記グラフをpng形式で保存して下さい。※作業ディレクトリに格納された、test.pngを確認して下さい。」"
      ]
    },
    {
      "cell_type": "code",
      "execution_count": null,
      "metadata": {
        "id": "eM9uOpENnuMv"
      },
      "outputs": [],
      "source": []
    },
    {
      "cell_type": "markdown",
      "metadata": {
        "id": "NlzqeMbanuMv"
      },
      "source": [
        "### 2. グラフの色や凡例・軸の編集（8問）"
      ]
    },
    {
      "cell_type": "markdown",
      "metadata": {
        "id": "HA0k48nQnuMv"
      },
      "source": [
        "#### 2.1 「data内の身長の折れ線グラフを、クラスの値で色分けして一つのグラフに描画して下さい。」"
      ]
    },
    {
      "cell_type": "code",
      "execution_count": null,
      "metadata": {
        "id": "DwznswLinuMv"
      },
      "outputs": [],
      "source": []
    },
    {
      "cell_type": "markdown",
      "metadata": {
        "id": "QTT5qe_6nuMw"
      },
      "source": [
        "#### 2.2 「上記のグラフに凡例を右上に作成して下さい。」"
      ]
    },
    {
      "cell_type": "code",
      "execution_count": null,
      "metadata": {
        "id": "37ZodT5EnuMw"
      },
      "outputs": [],
      "source": []
    },
    {
      "cell_type": "markdown",
      "metadata": {
        "id": "dsw1De7CnuMw"
      },
      "source": [
        "#### 2.3 「dataの身長のヒストグラムをクラスで色分けして凡例付きで一つのグラフに描画して下さい。」"
      ]
    },
    {
      "cell_type": "code",
      "execution_count": null,
      "metadata": {
        "id": "TotRVcvunuMw"
      },
      "outputs": [],
      "source": []
    },
    {
      "cell_type": "markdown",
      "metadata": {
        "id": "FQbrdCEOnuMx"
      },
      "source": [
        "#### 2.4 「色が被ってしまっています。透明度を上げてください。(引数は何れの値でも可)」"
      ]
    },
    {
      "cell_type": "code",
      "execution_count": null,
      "metadata": {
        "id": "9m6mHF2ZnuMx"
      },
      "outputs": [],
      "source": []
    },
    {
      "cell_type": "markdown",
      "metadata": {
        "id": "_FJllKfBnuMx"
      },
      "source": [
        "#### 2.5 「ビンの値を細かくしてください。(引数は何れの値でも可)」"
      ]
    },
    {
      "cell_type": "code",
      "execution_count": null,
      "metadata": {
        "id": "D0CFewDSnuMy"
      },
      "outputs": [],
      "source": []
    },
    {
      "cell_type": "markdown",
      "metadata": {
        "id": "FkJZXJ5znuMy"
      },
      "source": [
        "#### 2.6 「data内の身長のヒストグラムを作成して、フォントサイズを20にしてください。」"
      ]
    },
    {
      "cell_type": "code",
      "execution_count": null,
      "metadata": {
        "id": "5tFYHgREnuMy"
      },
      "outputs": [],
      "source": []
    },
    {
      "cell_type": "markdown",
      "metadata": {
        "id": "gGJEYfSJnuMz"
      },
      "source": [
        "#### 2.7 「data内の身長のヒストグラムを作成して、x軸とy軸にそれぞれフォントサイズ15で'X', 'Y'と軸ラベルを設定して下さい。」"
      ]
    },
    {
      "cell_type": "code",
      "execution_count": null,
      "metadata": {
        "id": "0jLoNtnXnuM0"
      },
      "outputs": [],
      "source": []
    },
    {
      "cell_type": "markdown",
      "metadata": {
        "id": "scIQoTfXnuM0"
      },
      "source": [
        "#### 2.8 「上記のグラフのy軸の範囲を0から30にして下さい。」"
      ]
    },
    {
      "cell_type": "code",
      "execution_count": null,
      "metadata": {
        "id": "4i_FBCc9nuM0"
      },
      "outputs": [],
      "source": []
    },
    {
      "cell_type": "markdown",
      "metadata": {
        "id": "A2Di67chnuM1"
      },
      "source": [
        "### 3. グラフの外観の設定（5問）"
      ]
    },
    {
      "cell_type": "markdown",
      "metadata": {
        "id": "X3fZw2EjnuNA"
      },
      "source": [
        "#### 3.1 「下記の様なグラフの箱を4つ用意してください。」"
      ]
    },
    {
      "cell_type": "code",
      "execution_count": null,
      "metadata": {
        "id": "ou0dT9nhnuNA"
      },
      "outputs": [],
      "source": []
    },
    {
      "cell_type": "markdown",
      "metadata": {
        "id": "AqNATPR2nuNA"
      },
      "source": [
        "#### 3.2 「グラフのタイトルを'title'に設定してください。」"
      ]
    },
    {
      "cell_type": "code",
      "execution_count": null,
      "metadata": {
        "id": "be7H1lNUnuNA"
      },
      "outputs": [],
      "source": []
    },
    {
      "cell_type": "markdown",
      "metadata": {
        "id": "RvrdOr75nuNA"
      },
      "source": [
        "#### 3.3 「各グラフのサブタイトルをそれぞれ、'1','2','3','4'に設定して下さい。」"
      ]
    },
    {
      "cell_type": "code",
      "execution_count": null,
      "metadata": {
        "id": "CI90gq0cnuNB"
      },
      "outputs": [],
      "source": []
    },
    {
      "cell_type": "markdown",
      "metadata": {
        "id": "1s4LD9-2nuNB"
      },
      "source": [
        "#### 3.4 「各グラフ同士が被ってしまっています。余白を縦0.5、横0.5に設定して下さい。」"
      ]
    },
    {
      "cell_type": "code",
      "execution_count": null,
      "metadata": {
        "id": "s-dhC-FOnuNB"
      },
      "outputs": [],
      "source": []
    },
    {
      "cell_type": "markdown",
      "metadata": {
        "id": "p8_AYmLJnuNB"
      },
      "source": [
        "#### 3.5 「上記のグラフに、身長、成績、クラス、体重のヒストグラムを入力してください。」"
      ]
    },
    {
      "cell_type": "code",
      "execution_count": null,
      "metadata": {
        "id": "SDD3pLXJnuNB"
      },
      "outputs": [],
      "source": []
    }
  ],
  "metadata": {
    "kernelspec": {
      "display_name": "Python 3",
      "language": "python",
      "name": "python3"
    },
    "language_info": {
      "codemirror_mode": {
        "name": "ipython",
        "version": 3
      },
      "file_extension": ".py",
      "mimetype": "text/x-python",
      "name": "python",
      "nbconvert_exporter": "python",
      "pygments_lexer": "ipython3",
      "version": "3.6.7"
    },
    "colab": {
      "provenance": []
    }
  },
  "nbformat": 4,
  "nbformat_minor": 0
}