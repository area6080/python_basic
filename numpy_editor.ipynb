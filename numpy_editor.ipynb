{
  "cells": [
    {
      "cell_type": "markdown",
      "metadata": {
        "id": "view-in-github",
        "colab_type": "text"
      },
      "source": [
        "<a href=\"https://colab.research.google.com/github/area6080/python_basic/blob/main/numpy_editor.ipynb\" target=\"_parent\"><img src=\"https://colab.research.google.com/assets/colab-badge.svg\" alt=\"Open In Colab\"/></a>"
      ]
    },
    {
      "cell_type": "markdown",
      "metadata": {
        "id": "eK3Qc7TuULea"
      },
      "source": [
        "# numpy exercises\n",
        "\n",
        "\n",
        "1. データの状態を確認する方法について学習します。（3問）\n",
        "2. 配列について学習します。（4問）\n",
        "3. スライスについて学習します。（5問）\n",
        "4. 行列について学習します。（基礎）（6問）\n",
        "5. 行列について学習します。（応用）（7問）\n",
        "6. numpyでよく使う機能について学習します。（14問）"
      ]
    },
    {
      "cell_type": "markdown",
      "metadata": {
        "id": "30qYZ6kBULee"
      },
      "source": [
        "### 0. 事前準備"
      ]
    },
    {
      "cell_type": "markdown",
      "metadata": {
        "id": "BVh1P-SyULef"
      },
      "source": [
        "#### 0.1 「numpyを読み込んでください。」"
      ]
    },
    {
      "cell_type": "code",
      "execution_count": 1,
      "metadata": {
        "id": "wnCgJ4koULef"
      },
      "outputs": [],
      "source": [
        "import numpy as np"
      ]
    },
    {
      "cell_type": "markdown",
      "metadata": {
        "id": "r9gL_ZpRULeg"
      },
      "source": [
        "#### 0.2 「以下のコードを読み込んでください。」"
      ]
    },
    {
      "cell_type": "code",
      "execution_count": 2,
      "metadata": {
        "id": "sORp3An6ULeg",
        "outputId": "ddfdace7-7fd5-409d-e298-227dcefd545a",
        "colab": {
          "base_uri": "https://localhost:8080/"
        }
      },
      "outputs": [
        {
          "output_type": "execute_result",
          "data": {
            "text/plain": [
              "array([[ 0,  1,  2,  3,  4],\n",
              "       [ 5,  6,  7,  8,  9],\n",
              "       [10, 11, 12, 13, 14]])"
            ]
          },
          "metadata": {},
          "execution_count": 2
        }
      ],
      "source": [
        "a = np.arange(15).reshape(3, 5)\n",
        "a"
      ]
    },
    {
      "cell_type": "markdown",
      "metadata": {
        "id": "pu53EFsuULeh"
      },
      "source": [
        "### 1. データの状態を確認する方法について学習します。（4問）"
      ]
    },
    {
      "cell_type": "markdown",
      "metadata": {
        "id": "_PK-oUcuULeh"
      },
      "source": [
        "#### 1.1 「行列の大きさを確認してください。」"
      ]
    },
    {
      "cell_type": "code",
      "execution_count": 3,
      "metadata": {
        "id": "0MGfv4k3ULei",
        "colab": {
          "base_uri": "https://localhost:8080/"
        },
        "outputId": "fe84090c-e86b-4418-8f31-9f1b7946561f"
      },
      "outputs": [
        {
          "output_type": "execute_result",
          "data": {
            "text/plain": [
              "(3, 5)"
            ]
          },
          "metadata": {},
          "execution_count": 3
        }
      ],
      "source": [
        "a.shape"
      ]
    },
    {
      "cell_type": "markdown",
      "metadata": {
        "id": "53NCCo1OULei"
      },
      "source": [
        "#### 1.2 「行列の軸数（次元）を確認してください。」"
      ]
    },
    {
      "cell_type": "code",
      "execution_count": 4,
      "metadata": {
        "id": "P7GZqBqZULei",
        "colab": {
          "base_uri": "https://localhost:8080/"
        },
        "outputId": "f629dade-8e68-4c05-c2af-0184f88f591c"
      },
      "outputs": [
        {
          "output_type": "execute_result",
          "data": {
            "text/plain": [
              "2"
            ]
          },
          "metadata": {},
          "execution_count": 4
        }
      ],
      "source": [
        "a.ndim"
      ]
    },
    {
      "cell_type": "markdown",
      "metadata": {
        "id": "tWdhsjmiULei"
      },
      "source": [
        "#### 1.3 「行列のデータ型を確認してください。」"
      ]
    },
    {
      "cell_type": "code",
      "execution_count": 5,
      "metadata": {
        "id": "h3JVAZEhULej",
        "colab": {
          "base_uri": "https://localhost:8080/"
        },
        "outputId": "1799f744-cd1e-4097-f2ec-1d9e415ea2ac"
      },
      "outputs": [
        {
          "output_type": "execute_result",
          "data": {
            "text/plain": [
              "dtype('int64')"
            ]
          },
          "metadata": {},
          "execution_count": 5
        }
      ],
      "source": [
        "a.dtype"
      ]
    },
    {
      "cell_type": "markdown",
      "metadata": {
        "id": "XQABOyH8ULej"
      },
      "source": [
        "### 2. 配列について学習します。（4問）"
      ]
    },
    {
      "cell_type": "markdown",
      "metadata": {
        "id": "AecjH6hhULej"
      },
      "source": [
        "#### 2.1 「8つの「0」が入る配列を作成してください。」"
      ]
    },
    {
      "cell_type": "code",
      "execution_count": 10,
      "metadata": {
        "id": "Woew8TTdULek",
        "colab": {
          "base_uri": "https://localhost:8080/"
        },
        "outputId": "7bfab70e-dfdc-4365-bed1-4584a2de1ba8"
      },
      "outputs": [
        {
          "output_type": "execute_result",
          "data": {
            "text/plain": [
              "array([0., 0., 0., 0., 0., 0., 0., 0.])"
            ]
          },
          "metadata": {},
          "execution_count": 10
        }
      ],
      "source": [
        "q = np.zeros(8)\n",
        "q"
      ]
    },
    {
      "cell_type": "markdown",
      "metadata": {
        "id": "-cCE5ihoULek"
      },
      "source": [
        "#### 2.2 「8つの「0」が入る配列を作成し、5番目の値を「1」に変えてください。」![nebusoku_doctor_man.jpg](data:image/jpeg;base64,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)"
      ]
    },
    {
      "cell_type": "code",
      "execution_count": null,
      "metadata": {
        "id": "XP2Lvt_JULek"
      },
      "outputs": [],
      "source": []
    },
    {
      "cell_type": "markdown",
      "metadata": {
        "id": "R8brCGdHULek"
      },
      "source": [
        "#### 2.3 「10～49までの数字が昇順で入った配列を作成してください。」"
      ]
    },
    {
      "cell_type": "code",
      "execution_count": 12,
      "metadata": {
        "id": "SnAyaQ8SULek",
        "colab": {
          "base_uri": "https://localhost:8080/"
        },
        "outputId": "4cb8e641-56c3-479c-dc62-0fb74f22875c"
      },
      "outputs": [
        {
          "output_type": "execute_result",
          "data": {
            "text/plain": [
              "array([10, 11, 12, 13, 14, 15, 16, 17, 18, 19, 20, 21, 22, 23, 24, 25, 26,\n",
              "       27, 28, 29, 30, 31, 32, 33, 34, 35, 36, 37, 38, 39, 40, 41, 42, 43,\n",
              "       44, 45, 46, 47, 48, 49])"
            ]
          },
          "metadata": {},
          "execution_count": 12
        }
      ],
      "source": [
        "np.arange(10,50)"
      ]
    },
    {
      "cell_type": "markdown",
      "metadata": {
        "id": "oInnobMhULel"
      },
      "source": [
        "#### 2.4 「0～39までの数字が降順で入った配列を作成してください。」"
      ]
    },
    {
      "cell_type": "code",
      "execution_count": 13,
      "metadata": {
        "id": "2tDvD6IkULel",
        "colab": {
          "base_uri": "https://localhost:8080/"
        },
        "outputId": "1f77f4df-7bb7-4a24-be37-040a57760491"
      },
      "outputs": [
        {
          "output_type": "execute_result",
          "data": {
            "text/plain": [
              "array([39, 38, 37, 36, 35, 34, 33, 32, 31, 30, 29, 28, 27, 26, 25, 24, 23,\n",
              "       22, 21, 20, 19, 18, 17, 16, 15, 14, 13, 12, 11, 10,  9,  8,  7,  6,\n",
              "        5,  4,  3,  2,  1,  0])"
            ]
          },
          "metadata": {},
          "execution_count": 13
        }
      ],
      "source": [
        "np.arange(40)[::-1]"
      ]
    },
    {
      "cell_type": "markdown",
      "metadata": {
        "id": "bWxpHHdJULel"
      },
      "source": [
        "### 3. スライスについて学習します。（5問）"
      ]
    },
    {
      "cell_type": "markdown",
      "metadata": {
        "id": "EWBbxrdcULel"
      },
      "source": [
        "#### 3.1 「0~9までの数字が入った配列を作成してください。」"
      ]
    },
    {
      "cell_type": "code",
      "execution_count": 14,
      "metadata": {
        "id": "NBWi9WDvULel",
        "colab": {
          "base_uri": "https://localhost:8080/"
        },
        "outputId": "b57adb9e-1aa5-45ea-b72b-b77ed3db2356"
      },
      "outputs": [
        {
          "output_type": "execute_result",
          "data": {
            "text/plain": [
              "array([0, 1, 2, 3, 4, 5, 6, 7, 8, 9])"
            ]
          },
          "metadata": {},
          "execution_count": 14
        }
      ],
      "source": [
        "z = np.arange(10)\n",
        "z"
      ]
    },
    {
      "cell_type": "markdown",
      "metadata": {
        "id": "8WGTxc43ULel"
      },
      "source": [
        "#### 3.2 「スライス（:）を使用して、3.1で作成した配列から、numpy_view.ipynbの設問3.2の結果となるように配列を取り出して下さい。」![nebusoku_doctor_man.jpg](data:image/jpeg;base64,/9j/4AAQSkZJRgABAQAAAQABAAD//gAfQ29tcHJlc3NlZCBieSBqcGVnLXJlY29tcHJlc3P/2wCEAAQEBAQEBAQEBAQGBgUGBggHBwcHCAwJCQkJCQwTDA4MDA4MExEUEA8QFBEeFxUVFx4iHRsdIiolJSo0MjRERFwBBAQEBAQEBAQEBAYGBQYGCAcHBwcIDAkJCQkJDBMMDgwMDgwTERQQDxAUER4XFRUXHiIdGx0iKiUlKjQyNEREXP/CABEIALQAtAMBIgACEQEDEQH/xAAdAAEAAQQDAQAAAAAAAAAAAAAABgQFBwgBAgMJ/9oACAEBAAAAAN/hbdfplrRM51fr/ML9qTszfQAap6t6133vaqWryVJ/qNIQAwx8wsfr56WqkrLnb759XstgDj5BYc63r1tlFV3Wgt0y+wUwANW/nxlHCXnmTGERqpNYrbctjfqIAfMnMcYy/oD9EK3RzH2+PzqvMXuP1UzcCE0ehe0UzrOno4tdziFR8t+M+Z13S7iNYgjeVYbq/NtmuO2pcY2YnujGvW430AAWXH/pQXJ07drTXW/Ffz83h3e7ARfHcj122QtnCYacbRRHWHOs8k8/AjuFqG1yGf1VDjWx3q7RaZVd2y6BYsLSqeV1J6e/MdhVo57Vt/ygB5YEy/cHh69na14k9Mj1Ek9wGN79fFJ79+OtJie+ZZADiASz369vSkUOLchzEAHEKc1PXwo6mYwKQyMACywKR0eOstX6FTyJzDsACI83eCYmzrNITN/OwSMAEQpZzjnAWx00hMprohLwA4iNimuPdeNrLjdI1NIpKwA4i/Sjq9YduI3N4dMYjLgA6WKiutrwDsDe66HzCKSrkAUtrt8ugsKm84Q6YxWU8n//xAAaAQEAAwEBAQAAAAAAAAAAAAAAAgMFAQQG/9oACAECEAAAAAAAADy5/o5b65g+e8FdOh5vrbg+dhR4drN1bNkZF/rVZWbD7PpnaYya9D0BNzsJwAss0cmLgLZbnz3OxBPunk9RDsuW0SRf/8QAGgEBAAMBAQEAAAAAAAAAAAAAAAECBQQDBv/aAAgBAxAAAAAImEgiaykDp7+a3ly0kN7uv68XT8p4yPpV+zI38rjxB9Jw5r2+k3+D4EbGKN32xucKC1bgedOLRmZB5Rl7BYIrHDoFgiqntVZ//8QANBAAAAYCAQIDBwMEAgMAAAAAAQIDBAUGAAcREiEIEzAQFBUgIjFBFiMkJTIzUTRhUlOB/9oACAEBAAEMAPksZ51GvTa9ZboLzXh83se/NnNUurlNC67m3OOnm8U7c1F3KNTeN6S6+Sa7bAnD+M2DWRIM3SnyB0PFjqdchDLDMICTxO6SMqVI1xFMWW+9OPjGTQ2BFEGNutJlzkLFW+Femzxe2JoStVyjtetWXocMvXqVUYN2HDj1N96Hq00upfImzMKnYnHiLtTyAkqDsKNi7bED0iIiUBAqXHlk9jweVu/25xkIgqbj713Y18qnR8AtsmzTpW0YmO2SS+7RjH1jc02/VO/xJZqqy6b1t6e89nzusq8i5ga0s9XslqsNvkFJWyzDmQdiP/Wd/wAYj3RSEwd/949D972MhAFh5wO4d8fh3SHKbdrNQppCeq8mqzd6V3PDbcgzqkTIynvSWKiZFYrkCChtWRpsneJlehRKTCCOUCnOHsbj+ylgiAffHo8nTwcY91sDH/fyu3spFmmqdNsrHX3Yt5DWewIvZNTYWKPOQq/o+K6/r1uoMajGLik8r1emLXLtICCb+e/ntVw0htaI1dXHnu42aszVOmncBPszN3qA8opCIZrjUclsaGsMo0fkZjcaxO1GSLE2KNOzdiOMQMZyUpQ5GTi5GEknsNLslGkg+/sTz/5jDnpUzw77KUoF5bM3rkCQXo+KybF/td+1OoIp6zqsVqCiP7TaVCN3/h6i39glbptuZbARfZOtYTZUKEdJct31toVooTokfPxp+Nd1gKfSq7AiQCr2qn1y6RwxVkikniGwvDxbKqo4f1pNSchdRQBrTsWrRpUzHQ2pquP2NHkWIoDSesEXJwrxWKmmC7J/D0GbmaZabq2QN8PYD3VDOA/IZpDc1dv1diIh3JkRtPzXXaNH105imdslhZnebn1RGNBdL36GORaSg9o+JFvLRyKi0NsHXULsllFsJ12+SbsGTOMZNI6Obpt2fbsAjh00lOkDplMH3++AP/WCI84jCQ7SQdTDaKZoyIAYRy3UKp3lBJrZ4ZF2LKmVyMqh6UxjwThHUW6gZqYg3gD7yJh7ds0vqJPazS2A1mlYyaay/iv1yROJcQSdnaRTt85h4t5KsfcpD5Lpr2o7BYpMLZDpvStfChqRuuRVVtKuSTmpY6qbkp1jrkGgzgMvjW2u6pLIUZ+i0n16T4ppRMEndwKiGuNd7sg7XHy9wvgPIj7c98557hgcjlyW8Uadony1xJM0KKvi/D/2ZrM98NUmo7IFP48Y/fPEfTxi7czuLREAZ8dgzwaqLhcLaiAh5PoWTkkaTntnVyPHOFKooAgmQTY5lIxi4IzfSTVs4bcO0EnLP99vgdwDjtgduwDnlK8Cfyz8IS8Q5VK3bSzNZdZNZIvUqkchTKgH5zczaJfa4sppVMg4iku6WK2aoKrr+EavScJL3KUnIx5GgUxTlAxTAJfnvDxdqxQMVqKjYXBR46TAIVqZbs3aiLgxQJ4hPDtZtoXBlcKZKRQkrbJrrqi12rqv0nCxVCqlKqQwGKbB+2N3MZPwrqKdKkKXTfhgtev9ls7ZZpeMUibPPNXS6UeguTDH5HsPfeNvUmTsdZ1v+XIUqsRdOhWUVGtUU1E1C8ZCSyrVyiiZQRQ+e6JEGFVKYoCRE5m5wQOPJZyINIAm9bKgk8ZObUY3kFenKKNHsckIHcovFBSp1qMVEgvWbdMaVYQHgk03EFKxcEOxSs3JZKqzkWooqi3dsSGNZHhitivHKgQ9fVYLqPXypDrqq9Y+QgPeJoFTh557ZmMb/VgHoEekMQU5EAHG4j1FAOQwg/QX57YgJ4NY2O0yHQP/ALiKqZyxYykiVZcjFs6ZF8uLg27Qpm86oHKj5NIH0Y5RarOV5FRQzaKcKN0HCMiqQ3us8kPJHiame8zqP+VmmoEnHxL8RF9AnQVmq68iGYP0HJlo9NMqZAAMN+A/AAH4EcRT+rkuRLQ7t0kmmHb53rdN2zcNjjjxE6JHCZ+QNAPvc6zCn8k6uBNuT8glErjgyMocA4iTY6kpVNETrMUiJpu5wiZeGCZijKSZQHriT4E0oUA5jlgALAgH+RquXLiYr2pvV0xEpEimMkmYBAQImb8jjSotDM0BXUUK4CnpJGETOzCVlHtWJBIgmBfRusR5fmP0CfRVpJBtV4lRchxD9RMf/BbP1Ew546FseSsY8Q92OC4AnORyfAACgiWeYgAABFsGwsuOkqa2BPsil/wrCE0uR9V5lREpilbGSIxQVXOBArTV7IyLNyhHCMf6aySa6Z0VSAYlelSVdR3W5gDIgSfZkD626pcSmI0f7zmx25YuWiyKLlEFGrqPbt26aq6AnPMRhCiUqvOfGmBOkQIobCzRBAASYrmyzy7NnAuiKHAjhaDUj45pIvEThkBOrx66UBN9IH9SQi46VR8uQapqlGtTsD9VdkQXbmsbtoYU5ypHLidppSwAKvUkb9Q0goAYHKY4NypqIft/UYLqRwIliK67cmk3N6cs3TtcEIppUa6zUZITkikK72Wj0X0W8ZriUCwrZKz1hSKdH4c1KXcOCOIiT5CR9WzygREUscgl95RjXNVOkvLRiDyOsEXCva06kYhm14f2OGrtVj5oWCHn1PZkqlMeXPuAWYXlcEYAUSiPWH9Fgy8JmVBs0mLr/LfPwbRkfGsolv7swQBJO2oGiH0bZ2aX1IqkXSTXTOBiepOk+IWWAh/qFO2TBkkwr0ckC8jGQIR8ApDicVBioZCz1J5BSJulfX8Qxl7M2YSYAZKyfy7HW4goD0CHPYcaFPVrODAoh8NyVjySEY9ZH4yjO1HMIDdbr8z1IQSSFwsD8vIlWMnC3pNwv0inhHYwMxdSmEE06pJfCbBCvjH4LHLGkLvKvBDlMRAAERHIo/6hszuaOYTMK/OJz7RV0kgdEMgOljbbFHdBgD0zGKQomMIAWiCRZCakSk6AtzJeRsLRm3EfMrUz8VikF1eRdbORcIHO7S+nClBQwJgH1a/aqGYP5FYwmUuEiZhFAxbci8ho0kPFtmCYFE2vT9EU/LwHsd9bO8xq4AHT6anHQfn7UUgJwBTE7C8KUl6gzF4wQGs20TDySOv7Ai8GVfp7smxTSSKBiZWWvuUBGJDyAw5f1JZF5v7sM15/wJMOeQy3FUSlqs8TMYg+m/UBFg8OXgxqUIJ1tn9uZc3Tda2YSjzaoYsrDuE0icuWj79U1B2UwgLqKjVHViOimHGXCSPHRiLFsH8mEi04mNbMgHkc1+bqazHAdsv5zoRrB2mUBMUeopTenKcDHSHIdqN3rbLnJ83Rb6oIFDnIfhhd5mMbgANa6mmF0QQ6A6Uh+IbBWK6+ovs18Ii1mRH2XoAGvc/knchR+T//xABBEAACAQMCAgYGCAQDCQAAAAABAgMABBESITFBBRATIlFhFDAycYGRICNCUnKywdGCobGzBmKSJDNTZIPC0uHx/9oACAEBAA0/APoR2U7dHQXBxFJchCUVySuxNWUso0PGLf0yJfBOUsfB0q/LxpcxTpDCk6biJyQxBIrwPSTk/wBqv+TuY5xj3SCKuaPZg/kY0fv9H3oH9qlOD27Nbj5yhaIGEtr+CU7+St1dI9JR3ogjGT2EQaP5u7YWuj+h7K1lBOcSRQhX9aZRI9xe3ItbK6kRScluKTf5xR1273Jcw3RMZ7ksVxHlSV4o5Ss7A7mtI6tI6tBpOEK3DNB8Ynyld2ZJkkjDw3EeyS9kQqvoA7gyAtZ0SAArLC+M6JUbdG9ZdloxfyLqs7M+MoXcseQp89+4ckIDyReCL5L16R1FR1aT1b1GQHAOYpkzkxzJwdDVkAt/YavlNDzMJ9WUbtBJgpoxvqztiklMUIiLdnOyk6p0RvYR/soKDEdWgdWD1aT1DV1Wc2uN8ZUgjDI45ow2IoqIr62BOba7VQXj35c1PMeq/wAQGQXJHFbGL21/6pIFXROgHuxxqvtSSHkiczVp0GW6Rv3jLu972T3HaOPBspUBzzMc0ZOBLEx9qNuRrSKsnSCyMq5iuLnGt0cjdVAI3FBS6AkMksZOA8brsy9Td0DxJOAKtHCXFvLjWhIDDgSCCDkEbEVqPVkV028dneh2wkbk4in/AICfVdFdG2dsByQunpB/uVdW6XnSUrcYI8ZS0XxI/m9dN3UlvZeUQfVLp5FQQqA+K1b63sL9BmS2kb80bfbSmYpbXMAMlvdHkIm+8fuHDVBZo91gkhrqb6yY/Fya3MbsMSwuftRON0NKpfKYF7Co5SRD2/elJdreXJXlDa/XHPvIAqzRxZ3gUEMp37CbxjJ+K1bvplt510sD4jkynkw2NdDNCuf+KWb63T4iJSCa2PVaWscF1aXBCSXDRLjtoeTh/p9IazBiCWbuoQC7mNTgAmtGvTb3K3En+iLU1XnSMdyBPFgulhZZBdfAvFVlei7CWsoQSnBUq4IPI7HiKtokhghjGESNBgKOpWDAMAQGXcEZ5jl9C5VUnu44EWaVV4B3AyeqL/czgmOeLySRMMAeYprae2aAsz5juMl8sxJJJarC5mtZcjGWhcpn3HiOroj0Kaylxqgfti+Q4GGUgoMMDSERwTtH6f3E29uFo5fjLU9nBLc2msSdhO6AvFqGzaDtn6MJJgly0c0Jbj2ciEMAcbigWzFNekIc+cQQ0OgLy2xBH3Yr2PYFj9+SN+J3OD1MkZtZZdONnBdQXDAMy5AJFBg3cv0hOQ/jAtJFKLiz9OnujLkHA0yKFGCc5+gbl1sDAlgUFvnKH6/v68e1qryTomjPMW0iIMIdXc19h3NX4eXV01CIbgjlewLz/HGOpuh0d/xrOAvqTIOrnpGaYArDNMkchB4d1iDUihkki78bqeDKy5BH0MZzpOMCmkMaRxzo7lxxUKDktROAWUgHqtbY3NpIRvHdptEUPIsTophlYoUMsp9yrk0bG0ghF9bPbmUO7sxQyAcNFEZBByCD6gyASSq28Z5ZGOFEcqkVePLBOCfI1NYxWt3BdyGEq8JOJEKIwYEGuiujoLMzHCK7ouGcg8ATTgMGByCDzHXc2slrJgjDJIhQleIOxrog3LWxtZnMly8kZiQlSncXD0pLY1DLkDkOJA6ru7h9MSLfvhsxQE8iWw7+AFJEguLhEAe5lCgNJIRuSepmClSdh6gun9aJ7jfpUAwGzp1L4Z5YonTxV2+GASaOO/ORGPnIaRQoVe9gAfhrG2Yz+xrycAn5haPJC+gfxqTWdv8AaNK/MkUV0oFJbTniSx4mjszDgKu2ZpJ5JHk0tJ7ZjDkhC3PFHw6gRWBx+mrISP4hSjIPmKnBMdvCcYHIuwzx8BRHtae8ceLE5NeC8f5Ckxtvg5OPGnQMRk439xr/ADf+xQ+7z+RojHaw9x8nnwAPxqUgDUMSx52GofqKOCTXPrDBnJGwA9RLGw92RSBgfeKaELhBwwTXLj+1eDZo4BLd4b/GiBpxt+tcyCaHh/8AK9wrETgMMHaRaKKR8uplBfSR8txXgFANc98k+/1MisHAB2bGQTR7SPugHdJGr8I/evwj96yCCAM5HxoAD2eAFc+6P3ryUfvXPuj969HkyGGD3d60Y3PhtSyfWSy91SBkd3xwR6xgQQwyCKilkltp3wFlRtwPLPKmwRsCCK80OKcbFjpGc0igErvvR8ENA74UV7uNXdu0ccDEa8uMEkeVTOsYL8I9Q1Z0c/jWkeiXKY7KVDwAI/l63GAWHeX3HlW+bW7wR7PI7Dc+6gFzJAokUAkj3D50fsmJ/wDsyK8OzkJoHgtsc/NgKJwCUCr81DVDEzkKwMrhRwyM4zU+XDTHXpUHCkZ5nHE08Td9uCsNwfgasHKxS+0F+7vzHKrI6G1kFnQc/E49dL9XEp45PMAgg4q5RDPmIM0THlv4E/GgFlWSGIK2lT3htU0SJDGkaqXnwcjIGw2JJq7mwxKhRbk8CmPsciDV1NGgwdyB3z/SrO0B7McSUWgxCwQHdseP7ms5PNmPixPE1FIIrgD7SEYB/SpFDKQQRg+YyPWxZu5h9kgcPy1eDSygAhEO++eZFSRSCRjwLyDfHlVpcsIW4tC+CQfmSKhDyhOKymPgPdzpX9IlB8M/sp6uk2zCn3HJwB8Dt1TRMoJ5HkfgatJWgYsfDcAeQG3rbdEgGQNjsp/JXSUSqCcZiZsIP5r1G0kvFz/lXXt/qqK4RXbOAEf6tiT5BqsrYQL5E4GB/Pqsfq7YHgX8R/Wo5jGVYgnbcfyPVMBcRnljOT8y/rAMknYACrm9ZgvIKBkD4aqPR5dfAsupgPjioswzA8nUcfiKuej5YHwM5AG4+RpyF95NXdwQWPMJxPxJNXx7GMKe9g+0f0pV1SsPtyHia9Ob8i9V7ZtE3kUyT/Qes0mpLiUk+7ansnHyV66V2BzsspP6H+RqCUZ/DJ3DUchJ/g3owiZz5yd/9asPqbYHPebk369XpreR9kdQvOxLL4OV9YsDt5bCi835zXYS/leoQZYTz1LyH4hQgaGUHY9tGNQP8VTNEi7c5iATV4RbxKvtKnAkeZ4Ug1O3i7bnq9PbH+kdUF9G4B8QpojPq/Rpf6Vrm/uGj2gz5HbqmQStHy1aQ23xao7uZQeeIg5WrGAmBeQIVf8AzPX6e35R1ekx1j6H/8QALxEAAgEDAQYFAwQDAAAAAAAAAQIDAAQRIQUSEzFBUSBCYXGBECIyFBUwoUCCkv/aAAgBAgEBPwD/ACru5/Tx5Ub0jHCL3NfuBt51hlO8gUBz2bqavr3gwI8LAs50PPQVabSinASUhJP6NT30dvPHE/JhkntRdFAYsMEgA+/j2rK63UZRiCqafNQwCdS73EaHPmOtTRrEwVZVkGM5Xl9BYlwrNdw6gc3p3kjJi4u8qNpg5XI6ireUTwxyjqNffxbWjcTrIR9pUAH2q12fFcxh+Phuq4q8torZlRJS7ddOX0i2XDLGsi3OhGeQqaKOKUpG++B1qCc2Fqu+pLSMSq9hUO1g8ipLHugnGQfDeMDciCQZjlUD2bkCKh2ZHGAJn38dBoKFtbDA4KfIzRtrY6GCP/nFPYwOPtG4fTUVNbiyPGmIkYnEYA006mpJHlYvIxJ7mkRnkRVGSWFDkPBewF2gmA1Rxn2zXfSvivivitrIzww7qkniEYHqKstnlVLXSDJGimorWCE70cYB7+L7W9DW6exrB7Gt3vpTKCVXeOAcnHWmXnjp/AMgAd9TUJi4kfGyYw43sdq2tHbxXUawpuncywGg9KU88flQOuaIwSPH5iPTFQKGmSNjgMwH91t1FUwSeYqVoaDPemGCRTdD3HiHMV5m+aU4KP1Bras/HkgAPKNT8mmOT6Cm/I0fxXxDmK85+aXk3tT8/wDT6N+RryD3P1//xAAuEQACAQMCAwgBBAMAAAAAAAABAgMABBEhMQUSURATIEFCYXGBMhQiMHIkgqH/2gAIAQMBAT8A/mPaKNDx2tv+okPMcRrqx9qNgJ4WliHKxYlR1WrKz72Z1mUhUGo21q54dJDlowXT/oqGyknhklT8lOAOtKjklQpyMkj4o+LhkStbSB1BDPUsxiIRIHcY9I0qJzIvMYmQ52bfsN4EJUWsu52SkjSQCTusMy65GDVzEYJ5IyNjp8eLg3LJA8YP71Ykj2NXl5LaTGMwZXybO9WlxJcKzvFyDy9+yTicsTsjW+oON6sQ80Cyyx8hPl0FXNkvE7x+5YCOFQruBnLdBVzwZoUZ4pObAzgjw8Li/wAF7qE4mhdiejLgEqau+LvOxMEXdg7k6k0bi4OSZn+jihcXA1E0g/2zUd9PGRzHnHQ6GrO6PEVFtbhokAzMSf3YPkvzUUMNvGEiQKnQVeOiI7k4AUk+Hhd2Ilu7ZzpLG3L/AGANfdfdfdfdcCnWCe4LsADGNT7GuJ8YMrIlnKQFOWYaZNTXdzOMSysw6eLUe4rmHUVzDqK5qRiAzYGSNM+VKds7Hb+A6knptUok5G7sAOVOPmuHvM8DmRsjmwM70w2ztRGlA5APj9IPvUzYiZx5AmuFMxEieQYGjqcdKUkgE0vmPfxHY16V+qI0ZOoqwi7lJSR6zSjApPxFD8m8R2r0L9U24+aGw/t2J+Ir1n47f//Z)"
      ]
    },
    {
      "cell_type": "code",
      "execution_count": 35,
      "metadata": {
        "id": "UdjhE57KULem",
        "colab": {
          "base_uri": "https://localhost:8080/"
        },
        "outputId": "db729d1e-069e-4e54-f4d7-7adcf06e590e"
      },
      "outputs": [
        {
          "output_type": "execute_result",
          "data": {
            "text/plain": [
              "array([4, 5, 6, 7])"
            ]
          },
          "metadata": {},
          "execution_count": 35
        }
      ],
      "source": [
        "z[4:8]"
      ]
    },
    {
      "cell_type": "markdown",
      "metadata": {
        "id": "uo0lepJpULem"
      },
      "source": [
        "#### 3.3 「スライス（:）を使用して、3.1で作成した配列から「マイナス」を使用して下記の配列を取り出して下さい。」"
      ]
    },
    {
      "cell_type": "code",
      "execution_count": 36,
      "metadata": {
        "id": "VT1NFwdgULem",
        "colab": {
          "base_uri": "https://localhost:8080/"
        },
        "outputId": "65a219dc-7d66-4933-ad90-35ad2948327e"
      },
      "outputs": [
        {
          "output_type": "execute_result",
          "data": {
            "text/plain": [
              "array([2, 3, 4, 5, 6])"
            ]
          },
          "metadata": {},
          "execution_count": 36
        }
      ],
      "source": [
        "z[-7:-2]"
      ]
    },
    {
      "cell_type": "markdown",
      "metadata": {
        "id": "fD4SWhMYULem"
      },
      "source": [
        "#### 3.4 「スライス（:）を使用して、3.1で作成した配列から「マイナス」を使用して下記の配列を取り出して下さい。」"
      ]
    },
    {
      "cell_type": "code",
      "execution_count": 37,
      "metadata": {
        "id": "u-pn_rL1ULem",
        "colab": {
          "base_uri": "https://localhost:8080/"
        },
        "outputId": "e7a63dbd-55ae-4439-bc55-6636247ac9c8"
      },
      "outputs": [
        {
          "output_type": "execute_result",
          "data": {
            "text/plain": [
              "array([8, 7, 6, 5, 4, 3, 2, 1, 0])"
            ]
          },
          "metadata": {},
          "execution_count": 37
        }
      ],
      "source": [
        "z[::-1]"
      ]
    },
    {
      "cell_type": "markdown",
      "metadata": {
        "id": "AMlZ-naCULen"
      },
      "source": [
        "#### 3.5 「スライス（:）を使用して、3.1で作成した配列から下記の配列を取り出して下さい。」"
      ]
    },
    {
      "cell_type": "code",
      "execution_count": 38,
      "metadata": {
        "id": "1ejqpcyaULen",
        "colab": {
          "base_uri": "https://localhost:8080/"
        },
        "outputId": "5842ebd4-401d-4e8c-c83a-a4fb609eddd6"
      },
      "outputs": [
        {
          "output_type": "execute_result",
          "data": {
            "text/plain": [
              "array([2, 4, 6])"
            ]
          },
          "metadata": {},
          "execution_count": 38
        }
      ],
      "source": [
        "z[2:8:2]"
      ]
    },
    {
      "cell_type": "markdown",
      "metadata": {
        "id": "SU2Xo1DbULen"
      },
      "source": [
        "### 4. 行列について学習します（基礎）（6問）"
      ]
    },
    {
      "cell_type": "markdown",
      "metadata": {
        "id": "rcMWs-rgULeo"
      },
      "source": [
        "#### 4.1 「0～8までの数字が昇順で入った配列を作成し、3×3の行列を作成してください。」"
      ]
    },
    {
      "cell_type": "code",
      "execution_count": 17,
      "metadata": {
        "id": "JqO_JtoxULeo",
        "colab": {
          "base_uri": "https://localhost:8080/"
        },
        "outputId": "57dc87fc-e4e0-4cc3-8ed5-daebd1b2d51e"
      },
      "outputs": [
        {
          "output_type": "execute_result",
          "data": {
            "text/plain": [
              "array([[0, 1, 2],\n",
              "       [3, 4, 5],\n",
              "       [6, 7, 8]])"
            ]
          },
          "metadata": {},
          "execution_count": 17
        }
      ],
      "source": [
        "np.arange(9).reshape(3,3)"
      ]
    },
    {
      "cell_type": "markdown",
      "metadata": {
        "id": "_rwEVQ_YULeo"
      },
      "source": [
        "#### 4.2 「任意の「0」が入っている配列を作成し、「0」以外が入っているインデックスを取得してください。」"
      ]
    },
    {
      "cell_type": "code",
      "execution_count": 20,
      "metadata": {
        "id": "kk3w82gFULe2",
        "colab": {
          "base_uri": "https://localhost:8080/"
        },
        "outputId": "f16c68f1-c65d-4eab-c7c5-ed2af511faff"
      },
      "outputs": [
        {
          "output_type": "execute_result",
          "data": {
            "text/plain": [
              "(array([0, 2, 4, 6, 8]),)"
            ]
          },
          "metadata": {},
          "execution_count": 20
        }
      ],
      "source": [
        "np.nonzero([1,0,1,0,1,0,1,0,1])\n"
      ]
    },
    {
      "cell_type": "markdown",
      "metadata": {
        "id": "SIksdOb0ULe2"
      },
      "source": [
        "#### 4.3 「3×3の正方行列を作成してください。」"
      ]
    },
    {
      "cell_type": "code",
      "execution_count": 21,
      "metadata": {
        "id": "gi5vWxh_ULe3",
        "colab": {
          "base_uri": "https://localhost:8080/"
        },
        "outputId": "d241bfe6-c2d3-4157-ff23-7502625e735d"
      },
      "outputs": [
        {
          "output_type": "execute_result",
          "data": {
            "text/plain": [
              "array([[0, 1, 2],\n",
              "       [3, 4, 5],\n",
              "       [6, 7, 8]])"
            ]
          },
          "metadata": {},
          "execution_count": 21
        }
      ],
      "source": [
        "np.arange(9).reshape(3,3)"
      ]
    },
    {
      "cell_type": "markdown",
      "metadata": {
        "id": "PdgrRxq_ULe3"
      },
      "source": [
        "#### 4.4 「3×3×3のランダム値を持つ行列を作成してください。」"
      ]
    },
    {
      "cell_type": "code",
      "execution_count": 22,
      "metadata": {
        "id": "H5Vjw8C0ULe3",
        "colab": {
          "base_uri": "https://localhost:8080/"
        },
        "outputId": "42f1d5f0-6df8-4b88-aec5-a0b88b62eb16"
      },
      "outputs": [
        {
          "output_type": "execute_result",
          "data": {
            "text/plain": [
              "array([[[0.62693477, 0.91577413, 0.36792284],\n",
              "        [0.97742172, 0.22320906, 0.37670512],\n",
              "        [0.74902762, 0.83307589, 0.06606712]],\n",
              "\n",
              "       [[0.3462138 , 0.09126768, 0.18866133],\n",
              "        [0.10295734, 0.20834979, 0.81781784],\n",
              "        [0.22426998, 0.28947838, 0.71130354]],\n",
              "\n",
              "       [[0.75372225, 0.6449245 , 0.02148065],\n",
              "        [0.28313421, 0.6710884 , 0.50778597],\n",
              "        [0.79861654, 0.02721888, 0.87175884]]])"
            ]
          },
          "metadata": {},
          "execution_count": 22
        }
      ],
      "source": [
        "np.random.rand(3,3,3)"
      ]
    },
    {
      "cell_type": "markdown",
      "metadata": {
        "id": "iJI4n_JoULe3"
      },
      "source": [
        "#### 4.5 「10×10のランダム値を持つ行列を作成し、最小値と最大値を出力してください。」"
      ]
    },
    {
      "cell_type": "code",
      "execution_count": 24,
      "metadata": {
        "id": "w-uTZYxkULe3",
        "colab": {
          "base_uri": "https://localhost:8080/"
        },
        "outputId": "c5f95205-8bf6-417c-e863-0b37faf3fbc3"
      },
      "outputs": [
        {
          "output_type": "execute_result",
          "data": {
            "text/plain": [
              "(0.002626290164882694, 0.9976859652727726)"
            ]
          },
          "metadata": {},
          "execution_count": 24
        }
      ],
      "source": [
        "np.random.rand(10,10).min(),np.random.rand(10,10).max()\n",
        "\n"
      ]
    },
    {
      "cell_type": "markdown",
      "metadata": {
        "id": "4hf8kdRUULe3"
      },
      "source": [
        "#### 4.6 「10×10のランダム値を持つ行列を作成し、平均値を出力してください。」"
      ]
    },
    {
      "cell_type": "code",
      "execution_count": 25,
      "metadata": {
        "id": "iFPfq-oOULe4",
        "colab": {
          "base_uri": "https://localhost:8080/"
        },
        "outputId": "703feb8f-3419-417d-87a0-4d56698bb1f1"
      },
      "outputs": [
        {
          "output_type": "execute_result",
          "data": {
            "text/plain": [
              "0.4790877872355355"
            ]
          },
          "metadata": {},
          "execution_count": 25
        }
      ],
      "source": [
        "np.random.rand(10,10).mean()"
      ]
    },
    {
      "cell_type": "markdown",
      "metadata": {
        "id": "f8Ihw474ULe4"
      },
      "source": [
        "### 5. 行列について学習します（応用）（7問）"
      ]
    },
    {
      "cell_type": "markdown",
      "metadata": {
        "id": "aBkXQoEMULe4"
      },
      "source": [
        "#### 5.1 「10×10の大きさの、外側だけ値が「1」、内側が全て値が「0」の行列を作成してください。」"
      ]
    },
    {
      "cell_type": "code",
      "execution_count": 32,
      "metadata": {
        "id": "gtInpbLMULe4",
        "colab": {
          "base_uri": "https://localhost:8080/"
        },
        "outputId": "fe765675-bc82-4f9c-9d0e-8d9cadad8113"
      },
      "outputs": [
        {
          "output_type": "execute_result",
          "data": {
            "text/plain": [
              "array([[0., 0., 0., 0., 0., 0., 0., 0., 0., 0., 0.],\n",
              "       [0., 1., 1., 1., 1., 1., 1., 1., 1., 1., 0.],\n",
              "       [0., 1., 1., 1., 1., 1., 1., 1., 1., 1., 0.],\n",
              "       [0., 1., 1., 1., 1., 1., 1., 1., 1., 1., 0.],\n",
              "       [0., 1., 1., 1., 1., 1., 1., 1., 1., 1., 0.],\n",
              "       [0., 1., 1., 1., 1., 1., 1., 1., 1., 1., 0.],\n",
              "       [0., 1., 1., 1., 1., 1., 1., 1., 1., 1., 0.],\n",
              "       [0., 1., 1., 1., 1., 1., 1., 1., 1., 1., 0.],\n",
              "       [0., 1., 1., 1., 1., 1., 1., 1., 1., 1., 0.],\n",
              "       [0., 1., 1., 1., 1., 1., 1., 1., 1., 1., 0.],\n",
              "       [0., 0., 0., 0., 0., 0., 0., 0., 0., 0., 0.]])"
            ]
          },
          "metadata": {},
          "execution_count": 32
        }
      ],
      "source": []
    },
    {
      "cell_type": "markdown",
      "metadata": {
        "id": "XotFE_qbULe4"
      },
      "source": [
        "#### 5.2 「10×10の大きさの、外側だけ値が「0」、内側が全て値が「1」の行列を作成してください。」"
      ]
    },
    {
      "cell_type": "code",
      "execution_count": 33,
      "metadata": {
        "id": "W38NSeFuULe4",
        "colab": {
          "base_uri": "https://localhost:8080/"
        },
        "outputId": "41e6aaaf-77c8-4cf2-e61c-8feabfaea8f8"
      },
      "outputs": [
        {
          "output_type": "execute_result",
          "data": {
            "text/plain": [
              "array([[0., 0., 0., 0., 0., 0., 0., 0., 0., 0., 0.],\n",
              "       [0., 1., 1., 1., 1., 1., 1., 1., 1., 1., 0.],\n",
              "       [0., 1., 1., 1., 1., 1., 1., 1., 1., 1., 0.],\n",
              "       [0., 1., 1., 1., 1., 1., 1., 1., 1., 1., 0.],\n",
              "       [0., 1., 1., 1., 1., 1., 1., 1., 1., 1., 0.],\n",
              "       [0., 1., 1., 1., 1., 1., 1., 1., 1., 1., 0.],\n",
              "       [0., 1., 1., 1., 1., 1., 1., 1., 1., 1., 0.],\n",
              "       [0., 1., 1., 1., 1., 1., 1., 1., 1., 1., 0.],\n",
              "       [0., 1., 1., 1., 1., 1., 1., 1., 1., 1., 0.],\n",
              "       [0., 1., 1., 1., 1., 1., 1., 1., 1., 1., 0.],\n",
              "       [0., 0., 0., 0., 0., 0., 0., 0., 0., 0., 0.]])"
            ]
          },
          "metadata": {},
          "execution_count": 33
        }
      ],
      "source": [
        "np.pad(np.ones((9,9)),(1,1))"
      ]
    },
    {
      "cell_type": "markdown",
      "metadata": {
        "id": "ElyNEbzcULe4"
      },
      "source": [
        "#### 5.3「下記のような4×4の対角行列を作成してください。」"
      ]
    },
    {
      "cell_type": "code",
      "execution_count": null,
      "metadata": {
        "id": "kyMgXLVXULe5"
      },
      "outputs": [],
      "source": []
    },
    {
      "cell_type": "markdown",
      "metadata": {
        "id": "hZbLn1v_ULe5"
      },
      "source": [
        "#### 5.4 「下記のような8×8の行列を作成してください。」"
      ]
    },
    {
      "cell_type": "code",
      "execution_count": null,
      "metadata": {
        "id": "ie2AIGIFULe5"
      },
      "outputs": [],
      "source": []
    },
    {
      "cell_type": "markdown",
      "metadata": {
        "id": "DhJKkIRiULe5"
      },
      "source": [
        "#### 5.5「3×5×2の行列を考えた時に、10番目の要素のインデックスを出力してください。」"
      ]
    },
    {
      "cell_type": "code",
      "execution_count": null,
      "metadata": {
        "id": "e9emIALJULe5"
      },
      "outputs": [],
      "source": []
    },
    {
      "cell_type": "markdown",
      "metadata": {
        "id": "ASxll0WZULe5"
      },
      "source": [
        "#### 5.6「5×5のランダム値を持つ行列を作成し、行列内の最大値が1、最小値が0になるように正規化してください。」"
      ]
    },
    {
      "cell_type": "code",
      "execution_count": null,
      "metadata": {
        "id": "QCrOw8jxULe6"
      },
      "outputs": [],
      "source": []
    },
    {
      "cell_type": "markdown",
      "metadata": {
        "id": "E6XbsJ0nULe6"
      },
      "source": [
        "#### 5.7「5×3の値が全て1の行列と3×2の値が全て1の行列の掛け算を行ってください。」"
      ]
    },
    {
      "cell_type": "code",
      "execution_count": null,
      "metadata": {
        "id": "zi-cdwS9ULe6"
      },
      "outputs": [],
      "source": []
    },
    {
      "cell_type": "markdown",
      "metadata": {
        "id": "0Mn3g2XzULe6"
      },
      "source": [
        "### 6. numpyでよく使用する機能について学習します。（14問）"
      ]
    },
    {
      "cell_type": "markdown",
      "metadata": {
        "id": "PW0nvhxKULe6"
      },
      "source": [
        "#### 6.1「0～10までの数字を昇順に並べた配列を作成し、4～8までの数字をマイナスに変えて出力してください。」"
      ]
    },
    {
      "cell_type": "code",
      "execution_count": null,
      "metadata": {
        "id": "AhexWDEqULe6"
      },
      "outputs": [],
      "source": []
    },
    {
      "cell_type": "markdown",
      "metadata": {
        "id": "gVeT7DoaULe6"
      },
      "source": [
        "#### 6.2「ランダムな整数値を10個もつ配列を2つ作成し、その2つの配列の共通の値を出力してください。」"
      ]
    },
    {
      "cell_type": "code",
      "execution_count": null,
      "metadata": {
        "id": "9C-AUq8_ULe7"
      },
      "outputs": [],
      "source": []
    },
    {
      "cell_type": "markdown",
      "metadata": {
        "id": "SVfMD6s-ULe7"
      },
      "source": [
        "#### 6.3「虚数を出力してください。」"
      ]
    },
    {
      "cell_type": "code",
      "execution_count": null,
      "metadata": {
        "id": "lEJwNq1hULfI"
      },
      "outputs": [],
      "source": []
    },
    {
      "cell_type": "markdown",
      "metadata": {
        "id": "pH89OMtpULfJ"
      },
      "source": [
        "#### 6.4「今日の日付と明後日の日付を出力してください。」"
      ]
    },
    {
      "cell_type": "code",
      "execution_count": null,
      "metadata": {
        "id": "dR8CzHOpULfJ"
      },
      "outputs": [],
      "source": []
    },
    {
      "cell_type": "markdown",
      "metadata": {
        "id": "-kWk3PtGULfJ"
      },
      "source": [
        "#### 6.5「2019年11月の日付を配列として出力してください。」"
      ]
    },
    {
      "cell_type": "code",
      "execution_count": null,
      "metadata": {
        "id": "6RoxuB-qULfJ"
      },
      "outputs": [],
      "source": []
    },
    {
      "cell_type": "markdown",
      "metadata": {
        "id": "P1Osf2F9ULfl"
      },
      "source": [
        "#### 6.6「ランダムの値を10個持つ配列を作成し、異なる3パターンで整数として出力してください。」"
      ]
    },
    {
      "cell_type": "code",
      "execution_count": null,
      "metadata": {
        "id": "pOU26uaWULfl"
      },
      "outputs": [],
      "source": []
    },
    {
      "cell_type": "markdown",
      "metadata": {
        "id": "hbzxw5H9ULfl"
      },
      "source": [
        "#### 6.7「下記のような行列を作成してください。」"
      ]
    },
    {
      "cell_type": "code",
      "execution_count": null,
      "metadata": {
        "id": "SBV1s7PsULfl"
      },
      "outputs": [],
      "source": []
    },
    {
      "cell_type": "markdown",
      "metadata": {
        "id": "T2tk4ZANULfl"
      },
      "source": [
        "#### 6.8「「0」と「1」は含めず、「0」～「1」の間を10分割した配列を作成してください。」"
      ]
    },
    {
      "cell_type": "code",
      "execution_count": null,
      "metadata": {
        "id": "kSfZd7YiULfm"
      },
      "outputs": [],
      "source": []
    },
    {
      "cell_type": "markdown",
      "metadata": {
        "id": "ag_yX_BgULfm"
      },
      "source": [
        "#### 6.9「10のランダム値を持つ配列を作成し、値を昇順にして出力してください。」"
      ]
    },
    {
      "cell_type": "code",
      "execution_count": null,
      "metadata": {
        "id": "Vx0SFRuWULfm"
      },
      "outputs": [],
      "source": []
    },
    {
      "cell_type": "markdown",
      "metadata": {
        "id": "L8LkRe1SULfm"
      },
      "source": [
        "#### 6.10「10のランダム値を持つ配列を作成し、MAX値に「0」を置き換えて出力してください。」"
      ]
    },
    {
      "cell_type": "code",
      "execution_count": null,
      "metadata": {
        "id": "KxtQSDFKULfn"
      },
      "outputs": [],
      "source": []
    },
    {
      "cell_type": "markdown",
      "metadata": {
        "id": "BNu1NlfmULfo"
      },
      "source": [
        "#### 6.11「下記のような値が軸単位で昇順になっている行列を作成してください。」"
      ]
    },
    {
      "cell_type": "code",
      "execution_count": null,
      "metadata": {
        "id": "2udvGpG0ULfo"
      },
      "outputs": [],
      "source": []
    },
    {
      "cell_type": "markdown",
      "metadata": {
        "id": "-zNrMoHAULfo"
      },
      "source": [
        "#### 6.12「3×3の値が昇順になっている行列を作成し、インデックスと値を出力してください。」"
      ]
    },
    {
      "cell_type": "code",
      "execution_count": null,
      "metadata": {
        "id": "ItkIaqFqULfp"
      },
      "outputs": [],
      "source": []
    },
    {
      "cell_type": "markdown",
      "metadata": {
        "id": "-xRwTNF_ULfp"
      },
      "source": [
        "#### 6.13「10×10の「0」行列を作成し、ランダムで20個「1」に変更してください。」"
      ]
    },
    {
      "cell_type": "code",
      "execution_count": null,
      "metadata": {
        "id": "bFSLqGWpULfp"
      },
      "outputs": [],
      "source": []
    },
    {
      "cell_type": "markdown",
      "metadata": {
        "id": "OuJBuYvnULfp"
      },
      "source": [
        "#### 6.14「100の整数のランダム要素を持つ配列を作成し、その頻度を出力してください。」"
      ]
    },
    {
      "cell_type": "code",
      "execution_count": 26,
      "metadata": {
        "id": "H4U8EWqYULfp",
        "colab": {
          "base_uri": "https://localhost:8080/"
        },
        "outputId": "ee9cbdb7-b34b-45e6-a61a-9a043fba80f0"
      },
      "outputs": [
        {
          "output_type": "execute_result",
          "data": {
            "text/plain": [
              "array([53,  3, 71,  6, 81, 18, 62, 53, 31, 98, 43,  4, 64, 21, 85, 35,  0,\n",
              "       29, 71, 91, 84, 26, 58, 73, 18,  9, 33, 78, 14, 10, 53, 84, 11, 33,\n",
              "       84, 54, 49, 55, 78,  3,  3, 19, 22, 67, 97, 94, 51, 81, 72, 57, 59,\n",
              "       80, 42, 63, 49, 11,  7, 67, 90, 96, 23, 45, 11, 18, 23, 88, 72, 35,\n",
              "       90, 77,  4, 11,  9, 43, 55,  9, 82,  2, 75, 69, 55, 89, 63, 83, 32,\n",
              "       80, 26,  1, 45, 52,  9, 25, 66, 71, 83, 31, 76, 81, 75, 87])"
            ]
          },
          "metadata": {},
          "execution_count": 26
        }
      ],
      "source": [
        "np.random.randint(0, 100, size=100)"
      ]
    },
    {
      "cell_type": "code",
      "source": [],
      "metadata": {
        "id": "xcIsGvtCin6k"
      },
      "execution_count": null,
      "outputs": []
    }
  ],
  "metadata": {
    "kernelspec": {
      "display_name": "Python 3",
      "language": "python",
      "name": "python3"
    },
    "language_info": {
      "codemirror_mode": {
        "name": "ipython",
        "version": 3
      },
      "file_extension": ".py",
      "mimetype": "text/x-python",
      "name": "python",
      "nbconvert_exporter": "python",
      "pygments_lexer": "ipython3",
      "version": "3.7.6"
    },
    "colab": {
      "provenance": [],
      "include_colab_link": true
    }
  },
  "nbformat": 4,
  "nbformat_minor": 0
}