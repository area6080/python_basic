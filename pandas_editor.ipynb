{
  "cells": [
    {
      "cell_type": "markdown",
      "metadata": {
        "id": "view-in-github",
        "colab_type": "text"
      },
      "source": [
        "<a href=\"https://colab.research.google.com/github/area6080/python_basic/blob/main/pandas_editor.ipynb\" target=\"_parent\"><img src=\"https://colab.research.google.com/assets/colab-badge.svg\" alt=\"Open In Colab\"/></a>"
      ]
    },
    {
      "cell_type": "markdown",
      "metadata": {
        "id": "7hsp9IELQTi7"
      },
      "source": [
        "# pandas exercises\n",
        "\n",
        "\n",
        "1. データの読み込み方法について学習します。(2問)\n",
        "2. データの状態を確認する方法について学習します。（11問）\n",
        "3. データの条件を指定する方法について学習します。（11問）\n",
        "4. データの集計方法について学習します。（7問）\n",
        "5. データの整形方法について学習します。（13問）\n",
        "6. 文字列の整形について学習します。（6問）"
      ]
    },
    {
      "cell_type": "markdown",
      "metadata": {
        "id": "gjFFztOyQTi_"
      },
      "source": [
        "### 0. 事前準備"
      ]
    },
    {
      "cell_type": "markdown",
      "metadata": {
        "id": "amyCJgO4QTjA"
      },
      "source": [
        "#### 0.1 「pandasをpd、numpyをnpと読み込んでください。」"
      ]
    },
    {
      "cell_type": "code",
      "execution_count": 33,
      "metadata": {
        "id": "Y8cXriPGQTjA"
      },
      "outputs": [],
      "source": [
        "import pandas as pd\n",
        "import numpy as np"
      ]
    },
    {
      "cell_type": "markdown",
      "metadata": {
        "id": "KyIwyfSdQTjC"
      },
      "source": [
        "#### 0.2 「次のコードを実行してください。※data変数に格納してください。」"
      ]
    },
    {
      "cell_type": "code",
      "execution_count": 34,
      "metadata": {
        "id": "-g9ZWvz9QTjC"
      },
      "outputs": [],
      "source": [
        "data = pd.DataFrame({'name': ['A', 'B', 'C', 'D'], '数学': [80, 15, 90, 50], '英語': [80, 70, 50, 65],\n",
        "                    '国語': [ 90, 60, 60,  60]})"
      ]
    },
    {
      "cell_type": "markdown",
      "metadata": {
        "id": "K_rxPwpkQTjD"
      },
      "source": [
        "#### 0.3 「次のコードを実行してください。※e_data変数に格納してください。」"
      ]
    },
    {
      "cell_type": "code",
      "execution_count": 35,
      "metadata": {
        "id": "LmOrfKBzQTjD"
      },
      "outputs": [],
      "source": [
        "e_data = pd.DataFrame({'name':'E','国語':[30],'数学':[30],'英語':[30]})"
      ]
    },
    {
      "cell_type": "markdown",
      "metadata": {
        "id": "DgxPQi2QQTjE"
      },
      "source": [
        "#### 0.4 「次のコードを実行してください。※data_2変数に格納してください。」"
      ]
    },
    {
      "cell_type": "code",
      "execution_count": 36,
      "metadata": {
        "id": "Le6sz9_4QTjE"
      },
      "outputs": [],
      "source": [
        "data_2 = pd.DataFrame({'name': ['A', 'B', 'C', 'D','D'], '国語-数学': [\"30:20\", np.NAN, \"90:50\", \"50:30\", \"50:30\"], '英語': [\"80.2\",\"60.5\",\"34,2\",0,0]})"
      ]
    },
    {
      "cell_type": "markdown",
      "metadata": {
        "id": "a5D4BK2AQTjF"
      },
      "source": [
        "#### 0.5 「次のコードを実行してください。※data_3変数に格納してください。」"
      ]
    },
    {
      "cell_type": "code",
      "execution_count": 37,
      "metadata": {
        "id": "jbySJ3VRQTjF"
      },
      "outputs": [],
      "source": [
        "data_3 = pd.DataFrame({'name': ['A', 'B', 'C', 'D'],\n",
        "                     '性別': ['男性', '男性', '女性', '男性'],\n",
        "                     '経歴': ['学部卒', '修士卒', '学部卒', '博士卒'],\n",
        "                     '特技': ['ボーリング', '野球', 'サッカー', '野球をやっていた']})"
      ]
    },
    {
      "cell_type": "markdown",
      "metadata": {
        "id": "v88U-hgUQTjF"
      },
      "source": [
        "### 1. データを読み込む方法について学習します。（2問）"
      ]
    },
    {
      "cell_type": "markdown",
      "metadata": {
        "id": "y6bIEx4hQTjF"
      },
      "source": [
        "#### 1.1 「data変数を現在のディレクトリ配下に「a.csv」という名前で保存してください。」"
      ]
    },
    {
      "cell_type": "code",
      "execution_count": 38,
      "metadata": {
        "id": "9gTLUiqnQTjG"
      },
      "outputs": [],
      "source": [
        "data.to_csv('a.csv', index=False)"
      ]
    },
    {
      "cell_type": "markdown",
      "metadata": {
        "id": "lCO0Vv6iQTjG"
      },
      "source": [
        "#### 1.2「「a.csv」というファイルを読み込み、dataという名前の変数に格納してください。」"
      ]
    },
    {
      "cell_type": "code",
      "execution_count": 39,
      "metadata": {
        "id": "ewPryqNGQTjG",
        "colab": {
          "base_uri": "https://localhost:8080/",
          "height": 175
        },
        "outputId": "7b7d4885-9bb8-4717-8ad2-cf9becc336e3"
      },
      "outputs": [
        {
          "output_type": "execute_result",
          "data": {
            "text/plain": [
              "  name  数学  英語  国語\n",
              "0    A  80  80  90\n",
              "1    B  15  70  60\n",
              "2    C  90  50  60\n",
              "3    D  50  65  60"
            ],
            "text/html": [
              "\n",
              "  <div id=\"df-bc1797a7-74ae-4058-91f5-a62268010797\" class=\"colab-df-container\">\n",
              "    <div>\n",
              "<style scoped>\n",
              "    .dataframe tbody tr th:only-of-type {\n",
              "        vertical-align: middle;\n",
              "    }\n",
              "\n",
              "    .dataframe tbody tr th {\n",
              "        vertical-align: top;\n",
              "    }\n",
              "\n",
              "    .dataframe thead th {\n",
              "        text-align: right;\n",
              "    }\n",
              "</style>\n",
              "<table border=\"1\" class=\"dataframe\">\n",
              "  <thead>\n",
              "    <tr style=\"text-align: right;\">\n",
              "      <th></th>\n",
              "      <th>name</th>\n",
              "      <th>数学</th>\n",
              "      <th>英語</th>\n",
              "      <th>国語</th>\n",
              "    </tr>\n",
              "  </thead>\n",
              "  <tbody>\n",
              "    <tr>\n",
              "      <th>0</th>\n",
              "      <td>A</td>\n",
              "      <td>80</td>\n",
              "      <td>80</td>\n",
              "      <td>90</td>\n",
              "    </tr>\n",
              "    <tr>\n",
              "      <th>1</th>\n",
              "      <td>B</td>\n",
              "      <td>15</td>\n",
              "      <td>70</td>\n",
              "      <td>60</td>\n",
              "    </tr>\n",
              "    <tr>\n",
              "      <th>2</th>\n",
              "      <td>C</td>\n",
              "      <td>90</td>\n",
              "      <td>50</td>\n",
              "      <td>60</td>\n",
              "    </tr>\n",
              "    <tr>\n",
              "      <th>3</th>\n",
              "      <td>D</td>\n",
              "      <td>50</td>\n",
              "      <td>65</td>\n",
              "      <td>60</td>\n",
              "    </tr>\n",
              "  </tbody>\n",
              "</table>\n",
              "</div>\n",
              "    <div class=\"colab-df-buttons\">\n",
              "\n",
              "  <div class=\"colab-df-container\">\n",
              "    <button class=\"colab-df-convert\" onclick=\"convertToInteractive('df-bc1797a7-74ae-4058-91f5-a62268010797')\"\n",
              "            title=\"Convert this dataframe to an interactive table.\"\n",
              "            style=\"display:none;\">\n",
              "\n",
              "  <svg xmlns=\"http://www.w3.org/2000/svg\" height=\"24px\" viewBox=\"0 -960 960 960\">\n",
              "    <path d=\"M120-120v-720h720v720H120Zm60-500h600v-160H180v160Zm220 220h160v-160H400v160Zm0 220h160v-160H400v160ZM180-400h160v-160H180v160Zm440 0h160v-160H620v160ZM180-180h160v-160H180v160Zm440 0h160v-160H620v160Z\"/>\n",
              "  </svg>\n",
              "    </button>\n",
              "\n",
              "  <style>\n",
              "    .colab-df-container {\n",
              "      display:flex;\n",
              "      gap: 12px;\n",
              "    }\n",
              "\n",
              "    .colab-df-convert {\n",
              "      background-color: #E8F0FE;\n",
              "      border: none;\n",
              "      border-radius: 50%;\n",
              "      cursor: pointer;\n",
              "      display: none;\n",
              "      fill: #1967D2;\n",
              "      height: 32px;\n",
              "      padding: 0 0 0 0;\n",
              "      width: 32px;\n",
              "    }\n",
              "\n",
              "    .colab-df-convert:hover {\n",
              "      background-color: #E2EBFA;\n",
              "      box-shadow: 0px 1px 2px rgba(60, 64, 67, 0.3), 0px 1px 3px 1px rgba(60, 64, 67, 0.15);\n",
              "      fill: #174EA6;\n",
              "    }\n",
              "\n",
              "    .colab-df-buttons div {\n",
              "      margin-bottom: 4px;\n",
              "    }\n",
              "\n",
              "    [theme=dark] .colab-df-convert {\n",
              "      background-color: #3B4455;\n",
              "      fill: #D2E3FC;\n",
              "    }\n",
              "\n",
              "    [theme=dark] .colab-df-convert:hover {\n",
              "      background-color: #434B5C;\n",
              "      box-shadow: 0px 1px 3px 1px rgba(0, 0, 0, 0.15);\n",
              "      filter: drop-shadow(0px 1px 2px rgba(0, 0, 0, 0.3));\n",
              "      fill: #FFFFFF;\n",
              "    }\n",
              "  </style>\n",
              "\n",
              "    <script>\n",
              "      const buttonEl =\n",
              "        document.querySelector('#df-bc1797a7-74ae-4058-91f5-a62268010797 button.colab-df-convert');\n",
              "      buttonEl.style.display =\n",
              "        google.colab.kernel.accessAllowed ? 'block' : 'none';\n",
              "\n",
              "      async function convertToInteractive(key) {\n",
              "        const element = document.querySelector('#df-bc1797a7-74ae-4058-91f5-a62268010797');\n",
              "        const dataTable =\n",
              "          await google.colab.kernel.invokeFunction('convertToInteractive',\n",
              "                                                    [key], {});\n",
              "        if (!dataTable) return;\n",
              "\n",
              "        const docLinkHtml = 'Like what you see? Visit the ' +\n",
              "          '<a target=\"_blank\" href=https://colab.research.google.com/notebooks/data_table.ipynb>data table notebook</a>'\n",
              "          + ' to learn more about interactive tables.';\n",
              "        element.innerHTML = '';\n",
              "        dataTable['output_type'] = 'display_data';\n",
              "        await google.colab.output.renderOutput(dataTable, element);\n",
              "        const docLink = document.createElement('div');\n",
              "        docLink.innerHTML = docLinkHtml;\n",
              "        element.appendChild(docLink);\n",
              "      }\n",
              "    </script>\n",
              "  </div>\n",
              "\n",
              "\n",
              "<div id=\"df-78ce2843-bb16-466c-9b2f-e2a7aaa554cb\">\n",
              "  <button class=\"colab-df-quickchart\" onclick=\"quickchart('df-78ce2843-bb16-466c-9b2f-e2a7aaa554cb')\"\n",
              "            title=\"Suggest charts\"\n",
              "            style=\"display:none;\">\n",
              "\n",
              "<svg xmlns=\"http://www.w3.org/2000/svg\" height=\"24px\"viewBox=\"0 0 24 24\"\n",
              "     width=\"24px\">\n",
              "    <g>\n",
              "        <path d=\"M19 3H5c-1.1 0-2 .9-2 2v14c0 1.1.9 2 2 2h14c1.1 0 2-.9 2-2V5c0-1.1-.9-2-2-2zM9 17H7v-7h2v7zm4 0h-2V7h2v10zm4 0h-2v-4h2v4z\"/>\n",
              "    </g>\n",
              "</svg>\n",
              "  </button>\n",
              "\n",
              "<style>\n",
              "  .colab-df-quickchart {\n",
              "      --bg-color: #E8F0FE;\n",
              "      --fill-color: #1967D2;\n",
              "      --hover-bg-color: #E2EBFA;\n",
              "      --hover-fill-color: #174EA6;\n",
              "      --disabled-fill-color: #AAA;\n",
              "      --disabled-bg-color: #DDD;\n",
              "  }\n",
              "\n",
              "  [theme=dark] .colab-df-quickchart {\n",
              "      --bg-color: #3B4455;\n",
              "      --fill-color: #D2E3FC;\n",
              "      --hover-bg-color: #434B5C;\n",
              "      --hover-fill-color: #FFFFFF;\n",
              "      --disabled-bg-color: #3B4455;\n",
              "      --disabled-fill-color: #666;\n",
              "  }\n",
              "\n",
              "  .colab-df-quickchart {\n",
              "    background-color: var(--bg-color);\n",
              "    border: none;\n",
              "    border-radius: 50%;\n",
              "    cursor: pointer;\n",
              "    display: none;\n",
              "    fill: var(--fill-color);\n",
              "    height: 32px;\n",
              "    padding: 0;\n",
              "    width: 32px;\n",
              "  }\n",
              "\n",
              "  .colab-df-quickchart:hover {\n",
              "    background-color: var(--hover-bg-color);\n",
              "    box-shadow: 0 1px 2px rgba(60, 64, 67, 0.3), 0 1px 3px 1px rgba(60, 64, 67, 0.15);\n",
              "    fill: var(--button-hover-fill-color);\n",
              "  }\n",
              "\n",
              "  .colab-df-quickchart-complete:disabled,\n",
              "  .colab-df-quickchart-complete:disabled:hover {\n",
              "    background-color: var(--disabled-bg-color);\n",
              "    fill: var(--disabled-fill-color);\n",
              "    box-shadow: none;\n",
              "  }\n",
              "\n",
              "  .colab-df-spinner {\n",
              "    border: 2px solid var(--fill-color);\n",
              "    border-color: transparent;\n",
              "    border-bottom-color: var(--fill-color);\n",
              "    animation:\n",
              "      spin 1s steps(1) infinite;\n",
              "  }\n",
              "\n",
              "  @keyframes spin {\n",
              "    0% {\n",
              "      border-color: transparent;\n",
              "      border-bottom-color: var(--fill-color);\n",
              "      border-left-color: var(--fill-color);\n",
              "    }\n",
              "    20% {\n",
              "      border-color: transparent;\n",
              "      border-left-color: var(--fill-color);\n",
              "      border-top-color: var(--fill-color);\n",
              "    }\n",
              "    30% {\n",
              "      border-color: transparent;\n",
              "      border-left-color: var(--fill-color);\n",
              "      border-top-color: var(--fill-color);\n",
              "      border-right-color: var(--fill-color);\n",
              "    }\n",
              "    40% {\n",
              "      border-color: transparent;\n",
              "      border-right-color: var(--fill-color);\n",
              "      border-top-color: var(--fill-color);\n",
              "    }\n",
              "    60% {\n",
              "      border-color: transparent;\n",
              "      border-right-color: var(--fill-color);\n",
              "    }\n",
              "    80% {\n",
              "      border-color: transparent;\n",
              "      border-right-color: var(--fill-color);\n",
              "      border-bottom-color: var(--fill-color);\n",
              "    }\n",
              "    90% {\n",
              "      border-color: transparent;\n",
              "      border-bottom-color: var(--fill-color);\n",
              "    }\n",
              "  }\n",
              "</style>\n",
              "\n",
              "  <script>\n",
              "    async function quickchart(key) {\n",
              "      const quickchartButtonEl =\n",
              "        document.querySelector('#' + key + ' button');\n",
              "      quickchartButtonEl.disabled = true;  // To prevent multiple clicks.\n",
              "      quickchartButtonEl.classList.add('colab-df-spinner');\n",
              "      try {\n",
              "        const charts = await google.colab.kernel.invokeFunction(\n",
              "            'suggestCharts', [key], {});\n",
              "      } catch (error) {\n",
              "        console.error('Error during call to suggestCharts:', error);\n",
              "      }\n",
              "      quickchartButtonEl.classList.remove('colab-df-spinner');\n",
              "      quickchartButtonEl.classList.add('colab-df-quickchart-complete');\n",
              "    }\n",
              "    (() => {\n",
              "      let quickchartButtonEl =\n",
              "        document.querySelector('#df-78ce2843-bb16-466c-9b2f-e2a7aaa554cb button');\n",
              "      quickchartButtonEl.style.display =\n",
              "        google.colab.kernel.accessAllowed ? 'block' : 'none';\n",
              "    })();\n",
              "  </script>\n",
              "</div>\n",
              "\n",
              "    </div>\n",
              "  </div>\n"
            ],
            "application/vnd.google.colaboratory.intrinsic+json": {
              "type": "dataframe",
              "variable_name": "data",
              "summary": "{\n  \"name\": \"data\",\n  \"rows\": 4,\n  \"fields\": [\n    {\n      \"column\": \"name\",\n      \"properties\": {\n        \"dtype\": \"string\",\n        \"num_unique_values\": 4,\n        \"samples\": [\n          \"B\",\n          \"D\",\n          \"A\"\n        ],\n        \"semantic_type\": \"\",\n        \"description\": \"\"\n      }\n    },\n    {\n      \"column\": \"\\u6570\\u5b66\",\n      \"properties\": {\n        \"dtype\": \"number\",\n        \"std\": 33,\n        \"min\": 15,\n        \"max\": 90,\n        \"num_unique_values\": 4,\n        \"samples\": [\n          15,\n          50,\n          80\n        ],\n        \"semantic_type\": \"\",\n        \"description\": \"\"\n      }\n    },\n    {\n      \"column\": \"\\u82f1\\u8a9e\",\n      \"properties\": {\n        \"dtype\": \"number\",\n        \"std\": 12,\n        \"min\": 50,\n        \"max\": 80,\n        \"num_unique_values\": 4,\n        \"samples\": [\n          70,\n          65,\n          80\n        ],\n        \"semantic_type\": \"\",\n        \"description\": \"\"\n      }\n    },\n    {\n      \"column\": \"\\u56fd\\u8a9e\",\n      \"properties\": {\n        \"dtype\": \"number\",\n        \"std\": 15,\n        \"min\": 60,\n        \"max\": 90,\n        \"num_unique_values\": 2,\n        \"samples\": [\n          60,\n          90\n        ],\n        \"semantic_type\": \"\",\n        \"description\": \"\"\n      }\n    }\n  ]\n}"
            }
          },
          "metadata": {},
          "execution_count": 39
        }
      ],
      "source": [
        "data = pd.read_csv('a.csv')\n",
        "data.head()"
      ]
    },
    {
      "cell_type": "markdown",
      "metadata": {
        "id": "Vn4mRudnQTjG"
      },
      "source": [
        "### 2.データの状態を確認する方法について学習します。（11問）"
      ]
    },
    {
      "cell_type": "markdown",
      "metadata": {
        "id": "FEJaN6ewQTjG"
      },
      "source": [
        "#### 2.1 「data変数のデータ形式を表示してください。」"
      ]
    },
    {
      "cell_type": "code",
      "execution_count": 40,
      "metadata": {
        "id": "S0QNM2nEQTjG",
        "colab": {
          "base_uri": "https://localhost:8080/",
          "height": 204
        },
        "outputId": "78018451-d8e0-424d-b96e-76e5ef39ded9"
      },
      "outputs": [
        {
          "output_type": "execute_result",
          "data": {
            "text/plain": [
              "pandas.core.frame.DataFrame"
            ],
            "text/html": [
              "<div style=\"max-width:800px; border: 1px solid var(--colab-border-color);\"><style>\n",
              "      pre.function-repr-contents {\n",
              "        overflow-x: auto;\n",
              "        padding: 8px 12px;\n",
              "        max-height: 500px;\n",
              "      }\n",
              "\n",
              "      pre.function-repr-contents.function-repr-contents-collapsed {\n",
              "        cursor: pointer;\n",
              "        max-height: 100px;\n",
              "      }\n",
              "    </style>\n",
              "    <pre style=\"white-space: initial; background:\n",
              "         var(--colab-secondary-surface-color); padding: 8px 12px;\n",
              "         border-bottom: 1px solid var(--colab-border-color);\"><b>pandas.core.frame.DataFrame</b><br/>def __init__(data=None, index: Axes | None=None, columns: Axes | None=None, dtype: Dtype | None=None, copy: bool | None=None) -&gt; None</pre><pre class=\"function-repr-contents function-repr-contents-collapsed\" style=\"\"><a class=\"filepath\" style=\"display:none\" href=\"#\">/usr/local/lib/python3.10/dist-packages/pandas/core/frame.py</a>Two-dimensional, size-mutable, potentially heterogeneous tabular data.\n",
              "\n",
              "Data structure also contains labeled axes (rows and columns).\n",
              "Arithmetic operations align on both row and column labels. Can be\n",
              "thought of as a dict-like container for Series objects. The primary\n",
              "pandas data structure.\n",
              "\n",
              "Parameters\n",
              "----------\n",
              "data : ndarray (structured or homogeneous), Iterable, dict, or DataFrame\n",
              "    Dict can contain Series, arrays, constants, dataclass or list-like objects. If\n",
              "    data is a dict, column order follows insertion-order. If a dict contains Series\n",
              "    which have an index defined, it is aligned by its index. This alignment also\n",
              "    occurs if data is a Series or a DataFrame itself. Alignment is done on\n",
              "    Series/DataFrame inputs.\n",
              "\n",
              "    If data is a list of dicts, column order follows insertion-order.\n",
              "\n",
              "index : Index or array-like\n",
              "    Index to use for resulting frame. Will default to RangeIndex if\n",
              "    no indexing information part of input data and no index provided.\n",
              "columns : Index or array-like\n",
              "    Column labels to use for resulting frame when data does not have them,\n",
              "    defaulting to RangeIndex(0, 1, 2, ..., n). If data contains column labels,\n",
              "    will perform column selection instead.\n",
              "dtype : dtype, default None\n",
              "    Data type to force. Only a single dtype is allowed. If None, infer.\n",
              "copy : bool or None, default None\n",
              "    Copy data from inputs.\n",
              "    For dict data, the default of None behaves like ``copy=True``.  For DataFrame\n",
              "    or 2d ndarray input, the default of None behaves like ``copy=False``.\n",
              "    If data is a dict containing one or more Series (possibly of different dtypes),\n",
              "    ``copy=False`` will ensure that these inputs are not copied.\n",
              "\n",
              "    .. versionchanged:: 1.3.0\n",
              "\n",
              "See Also\n",
              "--------\n",
              "DataFrame.from_records : Constructor from tuples, also record arrays.\n",
              "DataFrame.from_dict : From dicts of Series, arrays, or dicts.\n",
              "read_csv : Read a comma-separated values (csv) file into DataFrame.\n",
              "read_table : Read general delimited file into DataFrame.\n",
              "read_clipboard : Read text from clipboard into DataFrame.\n",
              "\n",
              "Notes\n",
              "-----\n",
              "Please reference the :ref:`User Guide &lt;basics.dataframe&gt;` for more information.\n",
              "\n",
              "Examples\n",
              "--------\n",
              "Constructing DataFrame from a dictionary.\n",
              "\n",
              "&gt;&gt;&gt; d = {&#x27;col1&#x27;: [1, 2], &#x27;col2&#x27;: [3, 4]}\n",
              "&gt;&gt;&gt; df = pd.DataFrame(data=d)\n",
              "&gt;&gt;&gt; df\n",
              "   col1  col2\n",
              "0     1     3\n",
              "1     2     4\n",
              "\n",
              "Notice that the inferred dtype is int64.\n",
              "\n",
              "&gt;&gt;&gt; df.dtypes\n",
              "col1    int64\n",
              "col2    int64\n",
              "dtype: object\n",
              "\n",
              "To enforce a single dtype:\n",
              "\n",
              "&gt;&gt;&gt; df = pd.DataFrame(data=d, dtype=np.int8)\n",
              "&gt;&gt;&gt; df.dtypes\n",
              "col1    int8\n",
              "col2    int8\n",
              "dtype: object\n",
              "\n",
              "Constructing DataFrame from a dictionary including Series:\n",
              "\n",
              "&gt;&gt;&gt; d = {&#x27;col1&#x27;: [0, 1, 2, 3], &#x27;col2&#x27;: pd.Series([2, 3], index=[2, 3])}\n",
              "&gt;&gt;&gt; pd.DataFrame(data=d, index=[0, 1, 2, 3])\n",
              "   col1  col2\n",
              "0     0   NaN\n",
              "1     1   NaN\n",
              "2     2   2.0\n",
              "3     3   3.0\n",
              "\n",
              "Constructing DataFrame from numpy ndarray:\n",
              "\n",
              "&gt;&gt;&gt; df2 = pd.DataFrame(np.array([[1, 2, 3], [4, 5, 6], [7, 8, 9]]),\n",
              "...                    columns=[&#x27;a&#x27;, &#x27;b&#x27;, &#x27;c&#x27;])\n",
              "&gt;&gt;&gt; df2\n",
              "   a  b  c\n",
              "0  1  2  3\n",
              "1  4  5  6\n",
              "2  7  8  9\n",
              "\n",
              "Constructing DataFrame from a numpy ndarray that has labeled columns:\n",
              "\n",
              "&gt;&gt;&gt; data = np.array([(1, 2, 3), (4, 5, 6), (7, 8, 9)],\n",
              "...                 dtype=[(&quot;a&quot;, &quot;i4&quot;), (&quot;b&quot;, &quot;i4&quot;), (&quot;c&quot;, &quot;i4&quot;)])\n",
              "&gt;&gt;&gt; df3 = pd.DataFrame(data, columns=[&#x27;c&#x27;, &#x27;a&#x27;])\n",
              "...\n",
              "&gt;&gt;&gt; df3\n",
              "   c  a\n",
              "0  3  1\n",
              "1  6  4\n",
              "2  9  7\n",
              "\n",
              "Constructing DataFrame from dataclass:\n",
              "\n",
              "&gt;&gt;&gt; from dataclasses import make_dataclass\n",
              "&gt;&gt;&gt; Point = make_dataclass(&quot;Point&quot;, [(&quot;x&quot;, int), (&quot;y&quot;, int)])\n",
              "&gt;&gt;&gt; pd.DataFrame([Point(0, 0), Point(0, 3), Point(2, 3)])\n",
              "   x  y\n",
              "0  0  0\n",
              "1  0  3\n",
              "2  2  3\n",
              "\n",
              "Constructing DataFrame from Series/DataFrame:\n",
              "\n",
              "&gt;&gt;&gt; ser = pd.Series([1, 2, 3], index=[&quot;a&quot;, &quot;b&quot;, &quot;c&quot;])\n",
              "&gt;&gt;&gt; df = pd.DataFrame(data=ser, index=[&quot;a&quot;, &quot;c&quot;])\n",
              "&gt;&gt;&gt; df\n",
              "   0\n",
              "a  1\n",
              "c  3\n",
              "\n",
              "&gt;&gt;&gt; df1 = pd.DataFrame([1, 2, 3], index=[&quot;a&quot;, &quot;b&quot;, &quot;c&quot;], columns=[&quot;x&quot;])\n",
              "&gt;&gt;&gt; df2 = pd.DataFrame(data=df1, index=[&quot;a&quot;, &quot;c&quot;])\n",
              "&gt;&gt;&gt; df2\n",
              "   x\n",
              "a  1\n",
              "c  3</pre>\n",
              "      <script>\n",
              "      if (google.colab.kernel.accessAllowed && google.colab.files && google.colab.files.view) {\n",
              "        for (const element of document.querySelectorAll('.filepath')) {\n",
              "          element.style.display = 'block'\n",
              "          element.onclick = (event) => {\n",
              "            event.preventDefault();\n",
              "            event.stopPropagation();\n",
              "            google.colab.files.view(element.textContent, 490);\n",
              "          };\n",
              "        }\n",
              "      }\n",
              "      for (const element of document.querySelectorAll('.function-repr-contents')) {\n",
              "        element.onclick = (event) => {\n",
              "          event.preventDefault();\n",
              "          event.stopPropagation();\n",
              "          element.classList.toggle('function-repr-contents-collapsed');\n",
              "        };\n",
              "      }\n",
              "      </script>\n",
              "      </div>"
            ]
          },
          "metadata": {},
          "execution_count": 40
        }
      ],
      "source": [
        "type(data)"
      ]
    },
    {
      "cell_type": "markdown",
      "metadata": {
        "id": "hoRUeFOHQTjH"
      },
      "source": [
        "#### 2.2 「pandasでSeries型データを作成して、データ形式を確認してください。※Seriesの中身は何でも良いです。」"
      ]
    },
    {
      "cell_type": "code",
      "execution_count": 18,
      "metadata": {
        "id": "U7rPEw9DQTjH",
        "colab": {
          "base_uri": "https://localhost:8080/",
          "height": 204
        },
        "outputId": "acfecd63-ff6e-4a79-d407-fa175dee19a5"
      },
      "outputs": [
        {
          "output_type": "execute_result",
          "data": {
            "text/plain": [
              "pandas.core.series.Series"
            ],
            "text/html": [
              "<div style=\"max-width:800px; border: 1px solid var(--colab-border-color);\"><style>\n",
              "      pre.function-repr-contents {\n",
              "        overflow-x: auto;\n",
              "        padding: 8px 12px;\n",
              "        max-height: 500px;\n",
              "      }\n",
              "\n",
              "      pre.function-repr-contents.function-repr-contents-collapsed {\n",
              "        cursor: pointer;\n",
              "        max-height: 100px;\n",
              "      }\n",
              "    </style>\n",
              "    <pre style=\"white-space: initial; background:\n",
              "         var(--colab-secondary-surface-color); padding: 8px 12px;\n",
              "         border-bottom: 1px solid var(--colab-border-color);\"><b>pandas.core.series.Series</b><br/>def __init__(data=None, index=None, dtype: Dtype | None=None, name=None, copy: bool | None=None, fastpath: bool=False) -&gt; None</pre><pre class=\"function-repr-contents function-repr-contents-collapsed\" style=\"\"><a class=\"filepath\" style=\"display:none\" href=\"#\">/usr/local/lib/python3.10/dist-packages/pandas/core/series.py</a>One-dimensional ndarray with axis labels (including time series).\n",
              "\n",
              "Labels need not be unique but must be a hashable type. The object\n",
              "supports both integer- and label-based indexing and provides a host of\n",
              "methods for performing operations involving the index. Statistical\n",
              "methods from ndarray have been overridden to automatically exclude\n",
              "missing data (currently represented as NaN).\n",
              "\n",
              "Operations between Series (+, -, /, \\*, \\*\\*) align values based on their\n",
              "associated index values-- they need not be the same length. The result\n",
              "index will be the sorted union of the two indexes.\n",
              "\n",
              "Parameters\n",
              "----------\n",
              "data : array-like, Iterable, dict, or scalar value\n",
              "    Contains data stored in Series. If data is a dict, argument order is\n",
              "    maintained.\n",
              "index : array-like or Index (1d)\n",
              "    Values must be hashable and have the same length as `data`.\n",
              "    Non-unique index values are allowed. Will default to\n",
              "    RangeIndex (0, 1, 2, ..., n) if not provided. If data is dict-like\n",
              "    and index is None, then the keys in the data are used as the index. If the\n",
              "    index is not None, the resulting Series is reindexed with the index values.\n",
              "dtype : str, numpy.dtype, or ExtensionDtype, optional\n",
              "    Data type for the output Series. If not specified, this will be\n",
              "    inferred from `data`.\n",
              "    See the :ref:`user guide &lt;basics.dtypes&gt;` for more usages.\n",
              "name : Hashable, default None\n",
              "    The name to give to the Series.\n",
              "copy : bool, default False\n",
              "    Copy input data. Only affects Series or 1d ndarray input. See examples.\n",
              "\n",
              "Notes\n",
              "-----\n",
              "Please reference the :ref:`User Guide &lt;basics.series&gt;` for more information.\n",
              "\n",
              "Examples\n",
              "--------\n",
              "Constructing Series from a dictionary with an Index specified\n",
              "\n",
              "&gt;&gt;&gt; d = {&#x27;a&#x27;: 1, &#x27;b&#x27;: 2, &#x27;c&#x27;: 3}\n",
              "&gt;&gt;&gt; ser = pd.Series(data=d, index=[&#x27;a&#x27;, &#x27;b&#x27;, &#x27;c&#x27;])\n",
              "&gt;&gt;&gt; ser\n",
              "a   1\n",
              "b   2\n",
              "c   3\n",
              "dtype: int64\n",
              "\n",
              "The keys of the dictionary match with the Index values, hence the Index\n",
              "values have no effect.\n",
              "\n",
              "&gt;&gt;&gt; d = {&#x27;a&#x27;: 1, &#x27;b&#x27;: 2, &#x27;c&#x27;: 3}\n",
              "&gt;&gt;&gt; ser = pd.Series(data=d, index=[&#x27;x&#x27;, &#x27;y&#x27;, &#x27;z&#x27;])\n",
              "&gt;&gt;&gt; ser\n",
              "x   NaN\n",
              "y   NaN\n",
              "z   NaN\n",
              "dtype: float64\n",
              "\n",
              "Note that the Index is first build with the keys from the dictionary.\n",
              "After this the Series is reindexed with the given Index values, hence we\n",
              "get all NaN as a result.\n",
              "\n",
              "Constructing Series from a list with `copy=False`.\n",
              "\n",
              "&gt;&gt;&gt; r = [1, 2]\n",
              "&gt;&gt;&gt; ser = pd.Series(r, copy=False)\n",
              "&gt;&gt;&gt; ser.iloc[0] = 999\n",
              "&gt;&gt;&gt; r\n",
              "[1, 2]\n",
              "&gt;&gt;&gt; ser\n",
              "0    999\n",
              "1      2\n",
              "dtype: int64\n",
              "\n",
              "Due to input data type the Series has a `copy` of\n",
              "the original data even though `copy=False`, so\n",
              "the data is unchanged.\n",
              "\n",
              "Constructing Series from a 1d ndarray with `copy=False`.\n",
              "\n",
              "&gt;&gt;&gt; r = np.array([1, 2])\n",
              "&gt;&gt;&gt; ser = pd.Series(r, copy=False)\n",
              "&gt;&gt;&gt; ser.iloc[0] = 999\n",
              "&gt;&gt;&gt; r\n",
              "array([999,   2])\n",
              "&gt;&gt;&gt; ser\n",
              "0    999\n",
              "1      2\n",
              "dtype: int64\n",
              "\n",
              "Due to input data type the Series has a `view` on\n",
              "the original data, so\n",
              "the data is changed as well.</pre>\n",
              "      <script>\n",
              "      if (google.colab.kernel.accessAllowed && google.colab.files && google.colab.files.view) {\n",
              "        for (const element of document.querySelectorAll('.filepath')) {\n",
              "          element.style.display = 'block'\n",
              "          element.onclick = (event) => {\n",
              "            event.preventDefault();\n",
              "            event.stopPropagation();\n",
              "            google.colab.files.view(element.textContent, 244);\n",
              "          };\n",
              "        }\n",
              "      }\n",
              "      for (const element of document.querySelectorAll('.function-repr-contents')) {\n",
              "        element.onclick = (event) => {\n",
              "          event.preventDefault();\n",
              "          event.stopPropagation();\n",
              "          element.classList.toggle('function-repr-contents-collapsed');\n",
              "        };\n",
              "      }\n",
              "      </script>\n",
              "      </div>"
            ]
          },
          "metadata": {},
          "execution_count": 18
        }
      ],
      "source": [
        "ser = pd.Series([1,2,3])\n",
        "type(ser)"
      ]
    },
    {
      "cell_type": "markdown",
      "metadata": {
        "id": "ks8sW8H7QTjH"
      },
      "source": [
        "#### 2.3 「pandasでDataFrame型データを作成して、データ形式を確認してください。※DataFrameの中身は何でも良いです。」"
      ]
    },
    {
      "cell_type": "code",
      "execution_count": 19,
      "metadata": {
        "id": "W-C3K0aeQTjH",
        "colab": {
          "base_uri": "https://localhost:8080/",
          "height": 204
        },
        "outputId": "15c1e4ba-cf1d-49c8-9995-375b9c37ab85"
      },
      "outputs": [
        {
          "output_type": "execute_result",
          "data": {
            "text/plain": [
              "pandas.core.frame.DataFrame"
            ],
            "text/html": [
              "<div style=\"max-width:800px; border: 1px solid var(--colab-border-color);\"><style>\n",
              "      pre.function-repr-contents {\n",
              "        overflow-x: auto;\n",
              "        padding: 8px 12px;\n",
              "        max-height: 500px;\n",
              "      }\n",
              "\n",
              "      pre.function-repr-contents.function-repr-contents-collapsed {\n",
              "        cursor: pointer;\n",
              "        max-height: 100px;\n",
              "      }\n",
              "    </style>\n",
              "    <pre style=\"white-space: initial; background:\n",
              "         var(--colab-secondary-surface-color); padding: 8px 12px;\n",
              "         border-bottom: 1px solid var(--colab-border-color);\"><b>pandas.core.frame.DataFrame</b><br/>def __init__(data=None, index: Axes | None=None, columns: Axes | None=None, dtype: Dtype | None=None, copy: bool | None=None) -&gt; None</pre><pre class=\"function-repr-contents function-repr-contents-collapsed\" style=\"\"><a class=\"filepath\" style=\"display:none\" href=\"#\">/usr/local/lib/python3.10/dist-packages/pandas/core/frame.py</a>Two-dimensional, size-mutable, potentially heterogeneous tabular data.\n",
              "\n",
              "Data structure also contains labeled axes (rows and columns).\n",
              "Arithmetic operations align on both row and column labels. Can be\n",
              "thought of as a dict-like container for Series objects. The primary\n",
              "pandas data structure.\n",
              "\n",
              "Parameters\n",
              "----------\n",
              "data : ndarray (structured or homogeneous), Iterable, dict, or DataFrame\n",
              "    Dict can contain Series, arrays, constants, dataclass or list-like objects. If\n",
              "    data is a dict, column order follows insertion-order. If a dict contains Series\n",
              "    which have an index defined, it is aligned by its index. This alignment also\n",
              "    occurs if data is a Series or a DataFrame itself. Alignment is done on\n",
              "    Series/DataFrame inputs.\n",
              "\n",
              "    If data is a list of dicts, column order follows insertion-order.\n",
              "\n",
              "index : Index or array-like\n",
              "    Index to use for resulting frame. Will default to RangeIndex if\n",
              "    no indexing information part of input data and no index provided.\n",
              "columns : Index or array-like\n",
              "    Column labels to use for resulting frame when data does not have them,\n",
              "    defaulting to RangeIndex(0, 1, 2, ..., n). If data contains column labels,\n",
              "    will perform column selection instead.\n",
              "dtype : dtype, default None\n",
              "    Data type to force. Only a single dtype is allowed. If None, infer.\n",
              "copy : bool or None, default None\n",
              "    Copy data from inputs.\n",
              "    For dict data, the default of None behaves like ``copy=True``.  For DataFrame\n",
              "    or 2d ndarray input, the default of None behaves like ``copy=False``.\n",
              "    If data is a dict containing one or more Series (possibly of different dtypes),\n",
              "    ``copy=False`` will ensure that these inputs are not copied.\n",
              "\n",
              "    .. versionchanged:: 1.3.0\n",
              "\n",
              "See Also\n",
              "--------\n",
              "DataFrame.from_records : Constructor from tuples, also record arrays.\n",
              "DataFrame.from_dict : From dicts of Series, arrays, or dicts.\n",
              "read_csv : Read a comma-separated values (csv) file into DataFrame.\n",
              "read_table : Read general delimited file into DataFrame.\n",
              "read_clipboard : Read text from clipboard into DataFrame.\n",
              "\n",
              "Notes\n",
              "-----\n",
              "Please reference the :ref:`User Guide &lt;basics.dataframe&gt;` for more information.\n",
              "\n",
              "Examples\n",
              "--------\n",
              "Constructing DataFrame from a dictionary.\n",
              "\n",
              "&gt;&gt;&gt; d = {&#x27;col1&#x27;: [1, 2], &#x27;col2&#x27;: [3, 4]}\n",
              "&gt;&gt;&gt; df = pd.DataFrame(data=d)\n",
              "&gt;&gt;&gt; df\n",
              "   col1  col2\n",
              "0     1     3\n",
              "1     2     4\n",
              "\n",
              "Notice that the inferred dtype is int64.\n",
              "\n",
              "&gt;&gt;&gt; df.dtypes\n",
              "col1    int64\n",
              "col2    int64\n",
              "dtype: object\n",
              "\n",
              "To enforce a single dtype:\n",
              "\n",
              "&gt;&gt;&gt; df = pd.DataFrame(data=d, dtype=np.int8)\n",
              "&gt;&gt;&gt; df.dtypes\n",
              "col1    int8\n",
              "col2    int8\n",
              "dtype: object\n",
              "\n",
              "Constructing DataFrame from a dictionary including Series:\n",
              "\n",
              "&gt;&gt;&gt; d = {&#x27;col1&#x27;: [0, 1, 2, 3], &#x27;col2&#x27;: pd.Series([2, 3], index=[2, 3])}\n",
              "&gt;&gt;&gt; pd.DataFrame(data=d, index=[0, 1, 2, 3])\n",
              "   col1  col2\n",
              "0     0   NaN\n",
              "1     1   NaN\n",
              "2     2   2.0\n",
              "3     3   3.0\n",
              "\n",
              "Constructing DataFrame from numpy ndarray:\n",
              "\n",
              "&gt;&gt;&gt; df2 = pd.DataFrame(np.array([[1, 2, 3], [4, 5, 6], [7, 8, 9]]),\n",
              "...                    columns=[&#x27;a&#x27;, &#x27;b&#x27;, &#x27;c&#x27;])\n",
              "&gt;&gt;&gt; df2\n",
              "   a  b  c\n",
              "0  1  2  3\n",
              "1  4  5  6\n",
              "2  7  8  9\n",
              "\n",
              "Constructing DataFrame from a numpy ndarray that has labeled columns:\n",
              "\n",
              "&gt;&gt;&gt; data = np.array([(1, 2, 3), (4, 5, 6), (7, 8, 9)],\n",
              "...                 dtype=[(&quot;a&quot;, &quot;i4&quot;), (&quot;b&quot;, &quot;i4&quot;), (&quot;c&quot;, &quot;i4&quot;)])\n",
              "&gt;&gt;&gt; df3 = pd.DataFrame(data, columns=[&#x27;c&#x27;, &#x27;a&#x27;])\n",
              "...\n",
              "&gt;&gt;&gt; df3\n",
              "   c  a\n",
              "0  3  1\n",
              "1  6  4\n",
              "2  9  7\n",
              "\n",
              "Constructing DataFrame from dataclass:\n",
              "\n",
              "&gt;&gt;&gt; from dataclasses import make_dataclass\n",
              "&gt;&gt;&gt; Point = make_dataclass(&quot;Point&quot;, [(&quot;x&quot;, int), (&quot;y&quot;, int)])\n",
              "&gt;&gt;&gt; pd.DataFrame([Point(0, 0), Point(0, 3), Point(2, 3)])\n",
              "   x  y\n",
              "0  0  0\n",
              "1  0  3\n",
              "2  2  3\n",
              "\n",
              "Constructing DataFrame from Series/DataFrame:\n",
              "\n",
              "&gt;&gt;&gt; ser = pd.Series([1, 2, 3], index=[&quot;a&quot;, &quot;b&quot;, &quot;c&quot;])\n",
              "&gt;&gt;&gt; df = pd.DataFrame(data=ser, index=[&quot;a&quot;, &quot;c&quot;])\n",
              "&gt;&gt;&gt; df\n",
              "   0\n",
              "a  1\n",
              "c  3\n",
              "\n",
              "&gt;&gt;&gt; df1 = pd.DataFrame([1, 2, 3], index=[&quot;a&quot;, &quot;b&quot;, &quot;c&quot;], columns=[&quot;x&quot;])\n",
              "&gt;&gt;&gt; df2 = pd.DataFrame(data=df1, index=[&quot;a&quot;, &quot;c&quot;])\n",
              "&gt;&gt;&gt; df2\n",
              "   x\n",
              "a  1\n",
              "c  3</pre>\n",
              "      <script>\n",
              "      if (google.colab.kernel.accessAllowed && google.colab.files && google.colab.files.view) {\n",
              "        for (const element of document.querySelectorAll('.filepath')) {\n",
              "          element.style.display = 'block'\n",
              "          element.onclick = (event) => {\n",
              "            event.preventDefault();\n",
              "            event.stopPropagation();\n",
              "            google.colab.files.view(element.textContent, 490);\n",
              "          };\n",
              "        }\n",
              "      }\n",
              "      for (const element of document.querySelectorAll('.function-repr-contents')) {\n",
              "        element.onclick = (event) => {\n",
              "          event.preventDefault();\n",
              "          event.stopPropagation();\n",
              "          element.classList.toggle('function-repr-contents-collapsed');\n",
              "        };\n",
              "      }\n",
              "      </script>\n",
              "      </div>"
            ]
          },
          "metadata": {},
          "execution_count": 19
        }
      ],
      "source": [
        "df = pd.DataFrame({'name': ['A'], '数学': [80], '英語': [80]})\n",
        "type(df)"
      ]
    },
    {
      "cell_type": "markdown",
      "metadata": {
        "id": "Rhuv4gd5QTjH"
      },
      "source": [
        "#### 2.4 「data変数の行と列を表示してください。」"
      ]
    },
    {
      "cell_type": "code",
      "execution_count": 41,
      "metadata": {
        "id": "IeBV4sFYQTjH",
        "colab": {
          "base_uri": "https://localhost:8080/"
        },
        "outputId": "73e95050-6d4d-46a3-ad6c-e78ffe457b83"
      },
      "outputs": [
        {
          "output_type": "execute_result",
          "data": {
            "text/plain": [
              "(4, 4)"
            ]
          },
          "metadata": {},
          "execution_count": 41
        }
      ],
      "source": [
        "data.shape"
      ]
    },
    {
      "cell_type": "markdown",
      "metadata": {
        "id": "PPxZM-RBQTjI"
      },
      "source": [
        "#### 2.5 「data変数の上から2行表示してください。」"
      ]
    },
    {
      "cell_type": "code",
      "execution_count": 42,
      "metadata": {
        "id": "4DViV0coQTjI",
        "colab": {
          "base_uri": "https://localhost:8080/",
          "height": 112
        },
        "outputId": "c9036db2-a3f9-4bc0-ced3-a86506470418"
      },
      "outputs": [
        {
          "output_type": "execute_result",
          "data": {
            "text/plain": [
              "  name  数学  英語  国語\n",
              "0    A  80  80  90\n",
              "1    B  15  70  60"
            ],
            "text/html": [
              "\n",
              "  <div id=\"df-9ac38ce6-9e46-4efe-b930-18fdb88dc1f1\" class=\"colab-df-container\">\n",
              "    <div>\n",
              "<style scoped>\n",
              "    .dataframe tbody tr th:only-of-type {\n",
              "        vertical-align: middle;\n",
              "    }\n",
              "\n",
              "    .dataframe tbody tr th {\n",
              "        vertical-align: top;\n",
              "    }\n",
              "\n",
              "    .dataframe thead th {\n",
              "        text-align: right;\n",
              "    }\n",
              "</style>\n",
              "<table border=\"1\" class=\"dataframe\">\n",
              "  <thead>\n",
              "    <tr style=\"text-align: right;\">\n",
              "      <th></th>\n",
              "      <th>name</th>\n",
              "      <th>数学</th>\n",
              "      <th>英語</th>\n",
              "      <th>国語</th>\n",
              "    </tr>\n",
              "  </thead>\n",
              "  <tbody>\n",
              "    <tr>\n",
              "      <th>0</th>\n",
              "      <td>A</td>\n",
              "      <td>80</td>\n",
              "      <td>80</td>\n",
              "      <td>90</td>\n",
              "    </tr>\n",
              "    <tr>\n",
              "      <th>1</th>\n",
              "      <td>B</td>\n",
              "      <td>15</td>\n",
              "      <td>70</td>\n",
              "      <td>60</td>\n",
              "    </tr>\n",
              "  </tbody>\n",
              "</table>\n",
              "</div>\n",
              "    <div class=\"colab-df-buttons\">\n",
              "\n",
              "  <div class=\"colab-df-container\">\n",
              "    <button class=\"colab-df-convert\" onclick=\"convertToInteractive('df-9ac38ce6-9e46-4efe-b930-18fdb88dc1f1')\"\n",
              "            title=\"Convert this dataframe to an interactive table.\"\n",
              "            style=\"display:none;\">\n",
              "\n",
              "  <svg xmlns=\"http://www.w3.org/2000/svg\" height=\"24px\" viewBox=\"0 -960 960 960\">\n",
              "    <path d=\"M120-120v-720h720v720H120Zm60-500h600v-160H180v160Zm220 220h160v-160H400v160Zm0 220h160v-160H400v160ZM180-400h160v-160H180v160Zm440 0h160v-160H620v160ZM180-180h160v-160H180v160Zm440 0h160v-160H620v160Z\"/>\n",
              "  </svg>\n",
              "    </button>\n",
              "\n",
              "  <style>\n",
              "    .colab-df-container {\n",
              "      display:flex;\n",
              "      gap: 12px;\n",
              "    }\n",
              "\n",
              "    .colab-df-convert {\n",
              "      background-color: #E8F0FE;\n",
              "      border: none;\n",
              "      border-radius: 50%;\n",
              "      cursor: pointer;\n",
              "      display: none;\n",
              "      fill: #1967D2;\n",
              "      height: 32px;\n",
              "      padding: 0 0 0 0;\n",
              "      width: 32px;\n",
              "    }\n",
              "\n",
              "    .colab-df-convert:hover {\n",
              "      background-color: #E2EBFA;\n",
              "      box-shadow: 0px 1px 2px rgba(60, 64, 67, 0.3), 0px 1px 3px 1px rgba(60, 64, 67, 0.15);\n",
              "      fill: #174EA6;\n",
              "    }\n",
              "\n",
              "    .colab-df-buttons div {\n",
              "      margin-bottom: 4px;\n",
              "    }\n",
              "\n",
              "    [theme=dark] .colab-df-convert {\n",
              "      background-color: #3B4455;\n",
              "      fill: #D2E3FC;\n",
              "    }\n",
              "\n",
              "    [theme=dark] .colab-df-convert:hover {\n",
              "      background-color: #434B5C;\n",
              "      box-shadow: 0px 1px 3px 1px rgba(0, 0, 0, 0.15);\n",
              "      filter: drop-shadow(0px 1px 2px rgba(0, 0, 0, 0.3));\n",
              "      fill: #FFFFFF;\n",
              "    }\n",
              "  </style>\n",
              "\n",
              "    <script>\n",
              "      const buttonEl =\n",
              "        document.querySelector('#df-9ac38ce6-9e46-4efe-b930-18fdb88dc1f1 button.colab-df-convert');\n",
              "      buttonEl.style.display =\n",
              "        google.colab.kernel.accessAllowed ? 'block' : 'none';\n",
              "\n",
              "      async function convertToInteractive(key) {\n",
              "        const element = document.querySelector('#df-9ac38ce6-9e46-4efe-b930-18fdb88dc1f1');\n",
              "        const dataTable =\n",
              "          await google.colab.kernel.invokeFunction('convertToInteractive',\n",
              "                                                    [key], {});\n",
              "        if (!dataTable) return;\n",
              "\n",
              "        const docLinkHtml = 'Like what you see? Visit the ' +\n",
              "          '<a target=\"_blank\" href=https://colab.research.google.com/notebooks/data_table.ipynb>data table notebook</a>'\n",
              "          + ' to learn more about interactive tables.';\n",
              "        element.innerHTML = '';\n",
              "        dataTable['output_type'] = 'display_data';\n",
              "        await google.colab.output.renderOutput(dataTable, element);\n",
              "        const docLink = document.createElement('div');\n",
              "        docLink.innerHTML = docLinkHtml;\n",
              "        element.appendChild(docLink);\n",
              "      }\n",
              "    </script>\n",
              "  </div>\n",
              "\n",
              "\n",
              "<div id=\"df-033d5b97-65d5-4587-be49-2740d27dd987\">\n",
              "  <button class=\"colab-df-quickchart\" onclick=\"quickchart('df-033d5b97-65d5-4587-be49-2740d27dd987')\"\n",
              "            title=\"Suggest charts\"\n",
              "            style=\"display:none;\">\n",
              "\n",
              "<svg xmlns=\"http://www.w3.org/2000/svg\" height=\"24px\"viewBox=\"0 0 24 24\"\n",
              "     width=\"24px\">\n",
              "    <g>\n",
              "        <path d=\"M19 3H5c-1.1 0-2 .9-2 2v14c0 1.1.9 2 2 2h14c1.1 0 2-.9 2-2V5c0-1.1-.9-2-2-2zM9 17H7v-7h2v7zm4 0h-2V7h2v10zm4 0h-2v-4h2v4z\"/>\n",
              "    </g>\n",
              "</svg>\n",
              "  </button>\n",
              "\n",
              "<style>\n",
              "  .colab-df-quickchart {\n",
              "      --bg-color: #E8F0FE;\n",
              "      --fill-color: #1967D2;\n",
              "      --hover-bg-color: #E2EBFA;\n",
              "      --hover-fill-color: #174EA6;\n",
              "      --disabled-fill-color: #AAA;\n",
              "      --disabled-bg-color: #DDD;\n",
              "  }\n",
              "\n",
              "  [theme=dark] .colab-df-quickchart {\n",
              "      --bg-color: #3B4455;\n",
              "      --fill-color: #D2E3FC;\n",
              "      --hover-bg-color: #434B5C;\n",
              "      --hover-fill-color: #FFFFFF;\n",
              "      --disabled-bg-color: #3B4455;\n",
              "      --disabled-fill-color: #666;\n",
              "  }\n",
              "\n",
              "  .colab-df-quickchart {\n",
              "    background-color: var(--bg-color);\n",
              "    border: none;\n",
              "    border-radius: 50%;\n",
              "    cursor: pointer;\n",
              "    display: none;\n",
              "    fill: var(--fill-color);\n",
              "    height: 32px;\n",
              "    padding: 0;\n",
              "    width: 32px;\n",
              "  }\n",
              "\n",
              "  .colab-df-quickchart:hover {\n",
              "    background-color: var(--hover-bg-color);\n",
              "    box-shadow: 0 1px 2px rgba(60, 64, 67, 0.3), 0 1px 3px 1px rgba(60, 64, 67, 0.15);\n",
              "    fill: var(--button-hover-fill-color);\n",
              "  }\n",
              "\n",
              "  .colab-df-quickchart-complete:disabled,\n",
              "  .colab-df-quickchart-complete:disabled:hover {\n",
              "    background-color: var(--disabled-bg-color);\n",
              "    fill: var(--disabled-fill-color);\n",
              "    box-shadow: none;\n",
              "  }\n",
              "\n",
              "  .colab-df-spinner {\n",
              "    border: 2px solid var(--fill-color);\n",
              "    border-color: transparent;\n",
              "    border-bottom-color: var(--fill-color);\n",
              "    animation:\n",
              "      spin 1s steps(1) infinite;\n",
              "  }\n",
              "\n",
              "  @keyframes spin {\n",
              "    0% {\n",
              "      border-color: transparent;\n",
              "      border-bottom-color: var(--fill-color);\n",
              "      border-left-color: var(--fill-color);\n",
              "    }\n",
              "    20% {\n",
              "      border-color: transparent;\n",
              "      border-left-color: var(--fill-color);\n",
              "      border-top-color: var(--fill-color);\n",
              "    }\n",
              "    30% {\n",
              "      border-color: transparent;\n",
              "      border-left-color: var(--fill-color);\n",
              "      border-top-color: var(--fill-color);\n",
              "      border-right-color: var(--fill-color);\n",
              "    }\n",
              "    40% {\n",
              "      border-color: transparent;\n",
              "      border-right-color: var(--fill-color);\n",
              "      border-top-color: var(--fill-color);\n",
              "    }\n",
              "    60% {\n",
              "      border-color: transparent;\n",
              "      border-right-color: var(--fill-color);\n",
              "    }\n",
              "    80% {\n",
              "      border-color: transparent;\n",
              "      border-right-color: var(--fill-color);\n",
              "      border-bottom-color: var(--fill-color);\n",
              "    }\n",
              "    90% {\n",
              "      border-color: transparent;\n",
              "      border-bottom-color: var(--fill-color);\n",
              "    }\n",
              "  }\n",
              "</style>\n",
              "\n",
              "  <script>\n",
              "    async function quickchart(key) {\n",
              "      const quickchartButtonEl =\n",
              "        document.querySelector('#' + key + ' button');\n",
              "      quickchartButtonEl.disabled = true;  // To prevent multiple clicks.\n",
              "      quickchartButtonEl.classList.add('colab-df-spinner');\n",
              "      try {\n",
              "        const charts = await google.colab.kernel.invokeFunction(\n",
              "            'suggestCharts', [key], {});\n",
              "      } catch (error) {\n",
              "        console.error('Error during call to suggestCharts:', error);\n",
              "      }\n",
              "      quickchartButtonEl.classList.remove('colab-df-spinner');\n",
              "      quickchartButtonEl.classList.add('colab-df-quickchart-complete');\n",
              "    }\n",
              "    (() => {\n",
              "      let quickchartButtonEl =\n",
              "        document.querySelector('#df-033d5b97-65d5-4587-be49-2740d27dd987 button');\n",
              "      quickchartButtonEl.style.display =\n",
              "        google.colab.kernel.accessAllowed ? 'block' : 'none';\n",
              "    })();\n",
              "  </script>\n",
              "</div>\n",
              "\n",
              "    </div>\n",
              "  </div>\n"
            ],
            "application/vnd.google.colaboratory.intrinsic+json": {
              "type": "dataframe",
              "variable_name": "data",
              "summary": "{\n  \"name\": \"data\",\n  \"rows\": 4,\n  \"fields\": [\n    {\n      \"column\": \"name\",\n      \"properties\": {\n        \"dtype\": \"string\",\n        \"num_unique_values\": 4,\n        \"samples\": [\n          \"B\",\n          \"D\",\n          \"A\"\n        ],\n        \"semantic_type\": \"\",\n        \"description\": \"\"\n      }\n    },\n    {\n      \"column\": \"\\u6570\\u5b66\",\n      \"properties\": {\n        \"dtype\": \"number\",\n        \"std\": 33,\n        \"min\": 15,\n        \"max\": 90,\n        \"num_unique_values\": 4,\n        \"samples\": [\n          15,\n          50,\n          80\n        ],\n        \"semantic_type\": \"\",\n        \"description\": \"\"\n      }\n    },\n    {\n      \"column\": \"\\u82f1\\u8a9e\",\n      \"properties\": {\n        \"dtype\": \"number\",\n        \"std\": 12,\n        \"min\": 50,\n        \"max\": 80,\n        \"num_unique_values\": 4,\n        \"samples\": [\n          70,\n          65,\n          80\n        ],\n        \"semantic_type\": \"\",\n        \"description\": \"\"\n      }\n    },\n    {\n      \"column\": \"\\u56fd\\u8a9e\",\n      \"properties\": {\n        \"dtype\": \"number\",\n        \"std\": 15,\n        \"min\": 60,\n        \"max\": 90,\n        \"num_unique_values\": 2,\n        \"samples\": [\n          60,\n          90\n        ],\n        \"semantic_type\": \"\",\n        \"description\": \"\"\n      }\n    }\n  ]\n}"
            }
          },
          "metadata": {},
          "execution_count": 42
        }
      ],
      "source": [
        "data.head(2)"
      ]
    },
    {
      "cell_type": "markdown",
      "metadata": {
        "id": "7k073ur3QTjI"
      },
      "source": [
        "#### 2.6 「data変数の下から3行表示してください。」"
      ]
    },
    {
      "cell_type": "code",
      "execution_count": 43,
      "metadata": {
        "id": "O3N2ynZiQTjI",
        "colab": {
          "base_uri": "https://localhost:8080/",
          "height": 143
        },
        "outputId": "330509ad-347f-496e-b3e7-13d1a1328a02"
      },
      "outputs": [
        {
          "output_type": "execute_result",
          "data": {
            "text/plain": [
              "  name  数学  英語  国語\n",
              "1    B  15  70  60\n",
              "2    C  90  50  60\n",
              "3    D  50  65  60"
            ],
            "text/html": [
              "\n",
              "  <div id=\"df-22d4d2bd-c758-4dbc-aa15-e5248e2c4db9\" class=\"colab-df-container\">\n",
              "    <div>\n",
              "<style scoped>\n",
              "    .dataframe tbody tr th:only-of-type {\n",
              "        vertical-align: middle;\n",
              "    }\n",
              "\n",
              "    .dataframe tbody tr th {\n",
              "        vertical-align: top;\n",
              "    }\n",
              "\n",
              "    .dataframe thead th {\n",
              "        text-align: right;\n",
              "    }\n",
              "</style>\n",
              "<table border=\"1\" class=\"dataframe\">\n",
              "  <thead>\n",
              "    <tr style=\"text-align: right;\">\n",
              "      <th></th>\n",
              "      <th>name</th>\n",
              "      <th>数学</th>\n",
              "      <th>英語</th>\n",
              "      <th>国語</th>\n",
              "    </tr>\n",
              "  </thead>\n",
              "  <tbody>\n",
              "    <tr>\n",
              "      <th>1</th>\n",
              "      <td>B</td>\n",
              "      <td>15</td>\n",
              "      <td>70</td>\n",
              "      <td>60</td>\n",
              "    </tr>\n",
              "    <tr>\n",
              "      <th>2</th>\n",
              "      <td>C</td>\n",
              "      <td>90</td>\n",
              "      <td>50</td>\n",
              "      <td>60</td>\n",
              "    </tr>\n",
              "    <tr>\n",
              "      <th>3</th>\n",
              "      <td>D</td>\n",
              "      <td>50</td>\n",
              "      <td>65</td>\n",
              "      <td>60</td>\n",
              "    </tr>\n",
              "  </tbody>\n",
              "</table>\n",
              "</div>\n",
              "    <div class=\"colab-df-buttons\">\n",
              "\n",
              "  <div class=\"colab-df-container\">\n",
              "    <button class=\"colab-df-convert\" onclick=\"convertToInteractive('df-22d4d2bd-c758-4dbc-aa15-e5248e2c4db9')\"\n",
              "            title=\"Convert this dataframe to an interactive table.\"\n",
              "            style=\"display:none;\">\n",
              "\n",
              "  <svg xmlns=\"http://www.w3.org/2000/svg\" height=\"24px\" viewBox=\"0 -960 960 960\">\n",
              "    <path d=\"M120-120v-720h720v720H120Zm60-500h600v-160H180v160Zm220 220h160v-160H400v160Zm0 220h160v-160H400v160ZM180-400h160v-160H180v160Zm440 0h160v-160H620v160ZM180-180h160v-160H180v160Zm440 0h160v-160H620v160Z\"/>\n",
              "  </svg>\n",
              "    </button>\n",
              "\n",
              "  <style>\n",
              "    .colab-df-container {\n",
              "      display:flex;\n",
              "      gap: 12px;\n",
              "    }\n",
              "\n",
              "    .colab-df-convert {\n",
              "      background-color: #E8F0FE;\n",
              "      border: none;\n",
              "      border-radius: 50%;\n",
              "      cursor: pointer;\n",
              "      display: none;\n",
              "      fill: #1967D2;\n",
              "      height: 32px;\n",
              "      padding: 0 0 0 0;\n",
              "      width: 32px;\n",
              "    }\n",
              "\n",
              "    .colab-df-convert:hover {\n",
              "      background-color: #E2EBFA;\n",
              "      box-shadow: 0px 1px 2px rgba(60, 64, 67, 0.3), 0px 1px 3px 1px rgba(60, 64, 67, 0.15);\n",
              "      fill: #174EA6;\n",
              "    }\n",
              "\n",
              "    .colab-df-buttons div {\n",
              "      margin-bottom: 4px;\n",
              "    }\n",
              "\n",
              "    [theme=dark] .colab-df-convert {\n",
              "      background-color: #3B4455;\n",
              "      fill: #D2E3FC;\n",
              "    }\n",
              "\n",
              "    [theme=dark] .colab-df-convert:hover {\n",
              "      background-color: #434B5C;\n",
              "      box-shadow: 0px 1px 3px 1px rgba(0, 0, 0, 0.15);\n",
              "      filter: drop-shadow(0px 1px 2px rgba(0, 0, 0, 0.3));\n",
              "      fill: #FFFFFF;\n",
              "    }\n",
              "  </style>\n",
              "\n",
              "    <script>\n",
              "      const buttonEl =\n",
              "        document.querySelector('#df-22d4d2bd-c758-4dbc-aa15-e5248e2c4db9 button.colab-df-convert');\n",
              "      buttonEl.style.display =\n",
              "        google.colab.kernel.accessAllowed ? 'block' : 'none';\n",
              "\n",
              "      async function convertToInteractive(key) {\n",
              "        const element = document.querySelector('#df-22d4d2bd-c758-4dbc-aa15-e5248e2c4db9');\n",
              "        const dataTable =\n",
              "          await google.colab.kernel.invokeFunction('convertToInteractive',\n",
              "                                                    [key], {});\n",
              "        if (!dataTable) return;\n",
              "\n",
              "        const docLinkHtml = 'Like what you see? Visit the ' +\n",
              "          '<a target=\"_blank\" href=https://colab.research.google.com/notebooks/data_table.ipynb>data table notebook</a>'\n",
              "          + ' to learn more about interactive tables.';\n",
              "        element.innerHTML = '';\n",
              "        dataTable['output_type'] = 'display_data';\n",
              "        await google.colab.output.renderOutput(dataTable, element);\n",
              "        const docLink = document.createElement('div');\n",
              "        docLink.innerHTML = docLinkHtml;\n",
              "        element.appendChild(docLink);\n",
              "      }\n",
              "    </script>\n",
              "  </div>\n",
              "\n",
              "\n",
              "<div id=\"df-a98bf8ef-ab8c-441e-abe1-f0a3193c1e57\">\n",
              "  <button class=\"colab-df-quickchart\" onclick=\"quickchart('df-a98bf8ef-ab8c-441e-abe1-f0a3193c1e57')\"\n",
              "            title=\"Suggest charts\"\n",
              "            style=\"display:none;\">\n",
              "\n",
              "<svg xmlns=\"http://www.w3.org/2000/svg\" height=\"24px\"viewBox=\"0 0 24 24\"\n",
              "     width=\"24px\">\n",
              "    <g>\n",
              "        <path d=\"M19 3H5c-1.1 0-2 .9-2 2v14c0 1.1.9 2 2 2h14c1.1 0 2-.9 2-2V5c0-1.1-.9-2-2-2zM9 17H7v-7h2v7zm4 0h-2V7h2v10zm4 0h-2v-4h2v4z\"/>\n",
              "    </g>\n",
              "</svg>\n",
              "  </button>\n",
              "\n",
              "<style>\n",
              "  .colab-df-quickchart {\n",
              "      --bg-color: #E8F0FE;\n",
              "      --fill-color: #1967D2;\n",
              "      --hover-bg-color: #E2EBFA;\n",
              "      --hover-fill-color: #174EA6;\n",
              "      --disabled-fill-color: #AAA;\n",
              "      --disabled-bg-color: #DDD;\n",
              "  }\n",
              "\n",
              "  [theme=dark] .colab-df-quickchart {\n",
              "      --bg-color: #3B4455;\n",
              "      --fill-color: #D2E3FC;\n",
              "      --hover-bg-color: #434B5C;\n",
              "      --hover-fill-color: #FFFFFF;\n",
              "      --disabled-bg-color: #3B4455;\n",
              "      --disabled-fill-color: #666;\n",
              "  }\n",
              "\n",
              "  .colab-df-quickchart {\n",
              "    background-color: var(--bg-color);\n",
              "    border: none;\n",
              "    border-radius: 50%;\n",
              "    cursor: pointer;\n",
              "    display: none;\n",
              "    fill: var(--fill-color);\n",
              "    height: 32px;\n",
              "    padding: 0;\n",
              "    width: 32px;\n",
              "  }\n",
              "\n",
              "  .colab-df-quickchart:hover {\n",
              "    background-color: var(--hover-bg-color);\n",
              "    box-shadow: 0 1px 2px rgba(60, 64, 67, 0.3), 0 1px 3px 1px rgba(60, 64, 67, 0.15);\n",
              "    fill: var(--button-hover-fill-color);\n",
              "  }\n",
              "\n",
              "  .colab-df-quickchart-complete:disabled,\n",
              "  .colab-df-quickchart-complete:disabled:hover {\n",
              "    background-color: var(--disabled-bg-color);\n",
              "    fill: var(--disabled-fill-color);\n",
              "    box-shadow: none;\n",
              "  }\n",
              "\n",
              "  .colab-df-spinner {\n",
              "    border: 2px solid var(--fill-color);\n",
              "    border-color: transparent;\n",
              "    border-bottom-color: var(--fill-color);\n",
              "    animation:\n",
              "      spin 1s steps(1) infinite;\n",
              "  }\n",
              "\n",
              "  @keyframes spin {\n",
              "    0% {\n",
              "      border-color: transparent;\n",
              "      border-bottom-color: var(--fill-color);\n",
              "      border-left-color: var(--fill-color);\n",
              "    }\n",
              "    20% {\n",
              "      border-color: transparent;\n",
              "      border-left-color: var(--fill-color);\n",
              "      border-top-color: var(--fill-color);\n",
              "    }\n",
              "    30% {\n",
              "      border-color: transparent;\n",
              "      border-left-color: var(--fill-color);\n",
              "      border-top-color: var(--fill-color);\n",
              "      border-right-color: var(--fill-color);\n",
              "    }\n",
              "    40% {\n",
              "      border-color: transparent;\n",
              "      border-right-color: var(--fill-color);\n",
              "      border-top-color: var(--fill-color);\n",
              "    }\n",
              "    60% {\n",
              "      border-color: transparent;\n",
              "      border-right-color: var(--fill-color);\n",
              "    }\n",
              "    80% {\n",
              "      border-color: transparent;\n",
              "      border-right-color: var(--fill-color);\n",
              "      border-bottom-color: var(--fill-color);\n",
              "    }\n",
              "    90% {\n",
              "      border-color: transparent;\n",
              "      border-bottom-color: var(--fill-color);\n",
              "    }\n",
              "  }\n",
              "</style>\n",
              "\n",
              "  <script>\n",
              "    async function quickchart(key) {\n",
              "      const quickchartButtonEl =\n",
              "        document.querySelector('#' + key + ' button');\n",
              "      quickchartButtonEl.disabled = true;  // To prevent multiple clicks.\n",
              "      quickchartButtonEl.classList.add('colab-df-spinner');\n",
              "      try {\n",
              "        const charts = await google.colab.kernel.invokeFunction(\n",
              "            'suggestCharts', [key], {});\n",
              "      } catch (error) {\n",
              "        console.error('Error during call to suggestCharts:', error);\n",
              "      }\n",
              "      quickchartButtonEl.classList.remove('colab-df-spinner');\n",
              "      quickchartButtonEl.classList.add('colab-df-quickchart-complete');\n",
              "    }\n",
              "    (() => {\n",
              "      let quickchartButtonEl =\n",
              "        document.querySelector('#df-a98bf8ef-ab8c-441e-abe1-f0a3193c1e57 button');\n",
              "      quickchartButtonEl.style.display =\n",
              "        google.colab.kernel.accessAllowed ? 'block' : 'none';\n",
              "    })();\n",
              "  </script>\n",
              "</div>\n",
              "\n",
              "    </div>\n",
              "  </div>\n"
            ],
            "application/vnd.google.colaboratory.intrinsic+json": {
              "type": "dataframe",
              "summary": "{\n  \"name\": \"data\",\n  \"rows\": 3,\n  \"fields\": [\n    {\n      \"column\": \"name\",\n      \"properties\": {\n        \"dtype\": \"string\",\n        \"num_unique_values\": 3,\n        \"samples\": [\n          \"B\",\n          \"C\",\n          \"D\"\n        ],\n        \"semantic_type\": \"\",\n        \"description\": \"\"\n      }\n    },\n    {\n      \"column\": \"\\u6570\\u5b66\",\n      \"properties\": {\n        \"dtype\": \"number\",\n        \"std\": 37,\n        \"min\": 15,\n        \"max\": 90,\n        \"num_unique_values\": 3,\n        \"samples\": [\n          15,\n          90,\n          50\n        ],\n        \"semantic_type\": \"\",\n        \"description\": \"\"\n      }\n    },\n    {\n      \"column\": \"\\u82f1\\u8a9e\",\n      \"properties\": {\n        \"dtype\": \"number\",\n        \"std\": 10,\n        \"min\": 50,\n        \"max\": 70,\n        \"num_unique_values\": 3,\n        \"samples\": [\n          70,\n          50,\n          65\n        ],\n        \"semantic_type\": \"\",\n        \"description\": \"\"\n      }\n    },\n    {\n      \"column\": \"\\u56fd\\u8a9e\",\n      \"properties\": {\n        \"dtype\": \"number\",\n        \"std\": 0,\n        \"min\": 60,\n        \"max\": 60,\n        \"num_unique_values\": 1,\n        \"samples\": [\n          60\n        ],\n        \"semantic_type\": \"\",\n        \"description\": \"\"\n      }\n    }\n  ]\n}"
            }
          },
          "metadata": {},
          "execution_count": 43
        }
      ],
      "source": [
        "data.tail(3)"
      ]
    },
    {
      "cell_type": "markdown",
      "metadata": {
        "id": "4kifLkjpQTjI"
      },
      "source": [
        "#### 2.7 「data変数のカラムを表示してください。」"
      ]
    },
    {
      "cell_type": "code",
      "execution_count": 44,
      "metadata": {
        "id": "KhhJQrSEQTjI",
        "colab": {
          "base_uri": "https://localhost:8080/"
        },
        "outputId": "e2678e5a-8ad8-4e4f-a58d-54f8b47769dd"
      },
      "outputs": [
        {
          "output_type": "execute_result",
          "data": {
            "text/plain": [
              "Index(['name', '数学', '英語', '国語'], dtype='object')"
            ]
          },
          "metadata": {},
          "execution_count": 44
        }
      ],
      "source": [
        "data.columns"
      ]
    },
    {
      "cell_type": "markdown",
      "metadata": {
        "id": "BCeSHdw2QTjI"
      },
      "source": [
        "#### 2.8 「data変数のインデックスを表示してください。」"
      ]
    },
    {
      "cell_type": "code",
      "execution_count": 45,
      "metadata": {
        "id": "3MfSub8fQTjJ",
        "colab": {
          "base_uri": "https://localhost:8080/"
        },
        "outputId": "8f464fec-0741-4388-a1bb-4cd6202807a5"
      },
      "outputs": [
        {
          "output_type": "execute_result",
          "data": {
            "text/plain": [
              "RangeIndex(start=0, stop=4, step=1)"
            ]
          },
          "metadata": {},
          "execution_count": 45
        }
      ],
      "source": [
        "data.index"
      ]
    },
    {
      "cell_type": "markdown",
      "metadata": {
        "id": "0UUTJbE8QTjJ"
      },
      "source": [
        "#### 2.9 「data変数の各カラムのdata型を表示してください。」"
      ]
    },
    {
      "cell_type": "code",
      "execution_count": 49,
      "metadata": {
        "id": "1b3XwQjKQTjJ",
        "colab": {
          "base_uri": "https://localhost:8080/"
        },
        "outputId": "10ae1460-19d2-47ad-b766-b5c7dc2b30e3"
      },
      "outputs": [
        {
          "output_type": "execute_result",
          "data": {
            "text/plain": [
              "name    object\n",
              "数学       int64\n",
              "英語       int64\n",
              "国語       int64\n",
              "dtype: object"
            ]
          },
          "metadata": {},
          "execution_count": 49
        }
      ],
      "source": [
        "data.dtypes"
      ]
    },
    {
      "cell_type": "markdown",
      "metadata": {
        "id": "d5eq0QfaQTjJ"
      },
      "source": [
        "#### 2.10 「data変数の各カラムのユニーク数を表示してください。」"
      ]
    },
    {
      "cell_type": "code",
      "execution_count": 50,
      "metadata": {
        "id": "nqL9cgPlQTjJ",
        "colab": {
          "base_uri": "https://localhost:8080/"
        },
        "outputId": "c5f2ddc6-ec46-406f-9f37-0c89e6031860"
      },
      "outputs": [
        {
          "output_type": "execute_result",
          "data": {
            "text/plain": [
              "name    4\n",
              "数学      4\n",
              "英語      4\n",
              "国語      2\n",
              "dtype: int64"
            ]
          },
          "metadata": {},
          "execution_count": 50
        }
      ],
      "source": [
        "data.nunique()"
      ]
    },
    {
      "cell_type": "markdown",
      "metadata": {
        "id": "er-uRJ0MQTjJ"
      },
      "source": [
        "#### 2.11 「data変数の各インデックスのユニーク数を表示してください。」"
      ]
    },
    {
      "cell_type": "code",
      "execution_count": 51,
      "metadata": {
        "id": "0fmBeCZnQTjK",
        "colab": {
          "base_uri": "https://localhost:8080/"
        },
        "outputId": "73dc6fe2-9a9a-49da-8bce-125a9c5af61d"
      },
      "outputs": [
        {
          "output_type": "execute_result",
          "data": {
            "text/plain": [
              "0    3\n",
              "1    4\n",
              "2    4\n",
              "3    4\n",
              "dtype: int64"
            ]
          },
          "metadata": {},
          "execution_count": 51
        }
      ],
      "source": [
        "data.nunique(axis=1)"
      ]
    },
    {
      "cell_type": "markdown",
      "metadata": {
        "id": "tjYsjb8DQTjK"
      },
      "source": [
        "### 3.データの条件を指定する方法について学習します。（11問）"
      ]
    },
    {
      "cell_type": "markdown",
      "metadata": {
        "id": "rYyhO_K4QTjL"
      },
      "source": [
        "#### 3.1 「data変数の上から4行目のデータを表示してください。」"
      ]
    },
    {
      "cell_type": "code",
      "execution_count": 52,
      "metadata": {
        "id": "KjYVzUx3QTjL",
        "colab": {
          "base_uri": "https://localhost:8080/"
        },
        "outputId": "3a8f8189-99b2-416b-ef89-5b1a44158585"
      },
      "outputs": [
        {
          "output_type": "execute_result",
          "data": {
            "text/plain": [
              "name     D\n",
              "数学      50\n",
              "英語      65\n",
              "国語      60\n",
              "Name: 3, dtype: object"
            ]
          },
          "metadata": {},
          "execution_count": 52
        }
      ],
      "source": [
        "data.loc[3]"
      ]
    },
    {
      "cell_type": "markdown",
      "metadata": {
        "id": "P7hDVqEBQTjL"
      },
      "source": [
        "#### 3.2 「data変数の中で国語が70点以上の人を表示してください。」"
      ]
    },
    {
      "cell_type": "code",
      "execution_count": 53,
      "metadata": {
        "id": "NueqEeYVQTjL",
        "colab": {
          "base_uri": "https://localhost:8080/",
          "height": 81
        },
        "outputId": "c6f45831-aa34-44a4-e131-6b5f2daff5e9"
      },
      "outputs": [
        {
          "output_type": "execute_result",
          "data": {
            "text/plain": [
              "  name  数学  英語  国語\n",
              "0    A  80  80  90"
            ],
            "text/html": [
              "\n",
              "  <div id=\"df-515498c5-999b-4a75-86e3-10586098d502\" class=\"colab-df-container\">\n",
              "    <div>\n",
              "<style scoped>\n",
              "    .dataframe tbody tr th:only-of-type {\n",
              "        vertical-align: middle;\n",
              "    }\n",
              "\n",
              "    .dataframe tbody tr th {\n",
              "        vertical-align: top;\n",
              "    }\n",
              "\n",
              "    .dataframe thead th {\n",
              "        text-align: right;\n",
              "    }\n",
              "</style>\n",
              "<table border=\"1\" class=\"dataframe\">\n",
              "  <thead>\n",
              "    <tr style=\"text-align: right;\">\n",
              "      <th></th>\n",
              "      <th>name</th>\n",
              "      <th>数学</th>\n",
              "      <th>英語</th>\n",
              "      <th>国語</th>\n",
              "    </tr>\n",
              "  </thead>\n",
              "  <tbody>\n",
              "    <tr>\n",
              "      <th>0</th>\n",
              "      <td>A</td>\n",
              "      <td>80</td>\n",
              "      <td>80</td>\n",
              "      <td>90</td>\n",
              "    </tr>\n",
              "  </tbody>\n",
              "</table>\n",
              "</div>\n",
              "    <div class=\"colab-df-buttons\">\n",
              "\n",
              "  <div class=\"colab-df-container\">\n",
              "    <button class=\"colab-df-convert\" onclick=\"convertToInteractive('df-515498c5-999b-4a75-86e3-10586098d502')\"\n",
              "            title=\"Convert this dataframe to an interactive table.\"\n",
              "            style=\"display:none;\">\n",
              "\n",
              "  <svg xmlns=\"http://www.w3.org/2000/svg\" height=\"24px\" viewBox=\"0 -960 960 960\">\n",
              "    <path d=\"M120-120v-720h720v720H120Zm60-500h600v-160H180v160Zm220 220h160v-160H400v160Zm0 220h160v-160H400v160ZM180-400h160v-160H180v160Zm440 0h160v-160H620v160ZM180-180h160v-160H180v160Zm440 0h160v-160H620v160Z\"/>\n",
              "  </svg>\n",
              "    </button>\n",
              "\n",
              "  <style>\n",
              "    .colab-df-container {\n",
              "      display:flex;\n",
              "      gap: 12px;\n",
              "    }\n",
              "\n",
              "    .colab-df-convert {\n",
              "      background-color: #E8F0FE;\n",
              "      border: none;\n",
              "      border-radius: 50%;\n",
              "      cursor: pointer;\n",
              "      display: none;\n",
              "      fill: #1967D2;\n",
              "      height: 32px;\n",
              "      padding: 0 0 0 0;\n",
              "      width: 32px;\n",
              "    }\n",
              "\n",
              "    .colab-df-convert:hover {\n",
              "      background-color: #E2EBFA;\n",
              "      box-shadow: 0px 1px 2px rgba(60, 64, 67, 0.3), 0px 1px 3px 1px rgba(60, 64, 67, 0.15);\n",
              "      fill: #174EA6;\n",
              "    }\n",
              "\n",
              "    .colab-df-buttons div {\n",
              "      margin-bottom: 4px;\n",
              "    }\n",
              "\n",
              "    [theme=dark] .colab-df-convert {\n",
              "      background-color: #3B4455;\n",
              "      fill: #D2E3FC;\n",
              "    }\n",
              "\n",
              "    [theme=dark] .colab-df-convert:hover {\n",
              "      background-color: #434B5C;\n",
              "      box-shadow: 0px 1px 3px 1px rgba(0, 0, 0, 0.15);\n",
              "      filter: drop-shadow(0px 1px 2px rgba(0, 0, 0, 0.3));\n",
              "      fill: #FFFFFF;\n",
              "    }\n",
              "  </style>\n",
              "\n",
              "    <script>\n",
              "      const buttonEl =\n",
              "        document.querySelector('#df-515498c5-999b-4a75-86e3-10586098d502 button.colab-df-convert');\n",
              "      buttonEl.style.display =\n",
              "        google.colab.kernel.accessAllowed ? 'block' : 'none';\n",
              "\n",
              "      async function convertToInteractive(key) {\n",
              "        const element = document.querySelector('#df-515498c5-999b-4a75-86e3-10586098d502');\n",
              "        const dataTable =\n",
              "          await google.colab.kernel.invokeFunction('convertToInteractive',\n",
              "                                                    [key], {});\n",
              "        if (!dataTable) return;\n",
              "\n",
              "        const docLinkHtml = 'Like what you see? Visit the ' +\n",
              "          '<a target=\"_blank\" href=https://colab.research.google.com/notebooks/data_table.ipynb>data table notebook</a>'\n",
              "          + ' to learn more about interactive tables.';\n",
              "        element.innerHTML = '';\n",
              "        dataTable['output_type'] = 'display_data';\n",
              "        await google.colab.output.renderOutput(dataTable, element);\n",
              "        const docLink = document.createElement('div');\n",
              "        docLink.innerHTML = docLinkHtml;\n",
              "        element.appendChild(docLink);\n",
              "      }\n",
              "    </script>\n",
              "  </div>\n",
              "\n",
              "\n",
              "    </div>\n",
              "  </div>\n"
            ],
            "application/vnd.google.colaboratory.intrinsic+json": {
              "type": "dataframe",
              "summary": "{\n  \"name\": \"data\",\n  \"rows\": 1,\n  \"fields\": [\n    {\n      \"column\": \"name\",\n      \"properties\": {\n        \"dtype\": \"string\",\n        \"num_unique_values\": 1,\n        \"samples\": [\n          \"A\"\n        ],\n        \"semantic_type\": \"\",\n        \"description\": \"\"\n      }\n    },\n    {\n      \"column\": \"\\u6570\\u5b66\",\n      \"properties\": {\n        \"dtype\": \"number\",\n        \"std\": null,\n        \"min\": 80,\n        \"max\": 80,\n        \"num_unique_values\": 1,\n        \"samples\": [\n          80\n        ],\n        \"semantic_type\": \"\",\n        \"description\": \"\"\n      }\n    },\n    {\n      \"column\": \"\\u82f1\\u8a9e\",\n      \"properties\": {\n        \"dtype\": \"number\",\n        \"std\": null,\n        \"min\": 80,\n        \"max\": 80,\n        \"num_unique_values\": 1,\n        \"samples\": [\n          80\n        ],\n        \"semantic_type\": \"\",\n        \"description\": \"\"\n      }\n    },\n    {\n      \"column\": \"\\u56fd\\u8a9e\",\n      \"properties\": {\n        \"dtype\": \"number\",\n        \"std\": null,\n        \"min\": 90,\n        \"max\": 90,\n        \"num_unique_values\": 1,\n        \"samples\": [\n          90\n        ],\n        \"semantic_type\": \"\",\n        \"description\": \"\"\n      }\n    }\n  ]\n}"
            }
          },
          "metadata": {},
          "execution_count": 53
        }
      ],
      "source": [
        "data.loc[data['国語'] >= 70]"
      ]
    },
    {
      "cell_type": "markdown",
      "metadata": {
        "id": "y5UlwAJzQTjL"
      },
      "source": [
        "#### 3.3 「data変数の中で数学が30点未満の人を表示してください。」"
      ]
    },
    {
      "cell_type": "code",
      "execution_count": 54,
      "metadata": {
        "id": "HAIJuz29QTjL",
        "colab": {
          "base_uri": "https://localhost:8080/",
          "height": 81
        },
        "outputId": "0f24de70-7f21-49a5-837a-2b9be66077db"
      },
      "outputs": [
        {
          "output_type": "execute_result",
          "data": {
            "text/plain": [
              "  name  数学  英語  国語\n",
              "1    B  15  70  60"
            ],
            "text/html": [
              "\n",
              "  <div id=\"df-7fb14309-21f2-44fe-83a3-32e69538d330\" class=\"colab-df-container\">\n",
              "    <div>\n",
              "<style scoped>\n",
              "    .dataframe tbody tr th:only-of-type {\n",
              "        vertical-align: middle;\n",
              "    }\n",
              "\n",
              "    .dataframe tbody tr th {\n",
              "        vertical-align: top;\n",
              "    }\n",
              "\n",
              "    .dataframe thead th {\n",
              "        text-align: right;\n",
              "    }\n",
              "</style>\n",
              "<table border=\"1\" class=\"dataframe\">\n",
              "  <thead>\n",
              "    <tr style=\"text-align: right;\">\n",
              "      <th></th>\n",
              "      <th>name</th>\n",
              "      <th>数学</th>\n",
              "      <th>英語</th>\n",
              "      <th>国語</th>\n",
              "    </tr>\n",
              "  </thead>\n",
              "  <tbody>\n",
              "    <tr>\n",
              "      <th>1</th>\n",
              "      <td>B</td>\n",
              "      <td>15</td>\n",
              "      <td>70</td>\n",
              "      <td>60</td>\n",
              "    </tr>\n",
              "  </tbody>\n",
              "</table>\n",
              "</div>\n",
              "    <div class=\"colab-df-buttons\">\n",
              "\n",
              "  <div class=\"colab-df-container\">\n",
              "    <button class=\"colab-df-convert\" onclick=\"convertToInteractive('df-7fb14309-21f2-44fe-83a3-32e69538d330')\"\n",
              "            title=\"Convert this dataframe to an interactive table.\"\n",
              "            style=\"display:none;\">\n",
              "\n",
              "  <svg xmlns=\"http://www.w3.org/2000/svg\" height=\"24px\" viewBox=\"0 -960 960 960\">\n",
              "    <path d=\"M120-120v-720h720v720H120Zm60-500h600v-160H180v160Zm220 220h160v-160H400v160Zm0 220h160v-160H400v160ZM180-400h160v-160H180v160Zm440 0h160v-160H620v160ZM180-180h160v-160H180v160Zm440 0h160v-160H620v160Z\"/>\n",
              "  </svg>\n",
              "    </button>\n",
              "\n",
              "  <style>\n",
              "    .colab-df-container {\n",
              "      display:flex;\n",
              "      gap: 12px;\n",
              "    }\n",
              "\n",
              "    .colab-df-convert {\n",
              "      background-color: #E8F0FE;\n",
              "      border: none;\n",
              "      border-radius: 50%;\n",
              "      cursor: pointer;\n",
              "      display: none;\n",
              "      fill: #1967D2;\n",
              "      height: 32px;\n",
              "      padding: 0 0 0 0;\n",
              "      width: 32px;\n",
              "    }\n",
              "\n",
              "    .colab-df-convert:hover {\n",
              "      background-color: #E2EBFA;\n",
              "      box-shadow: 0px 1px 2px rgba(60, 64, 67, 0.3), 0px 1px 3px 1px rgba(60, 64, 67, 0.15);\n",
              "      fill: #174EA6;\n",
              "    }\n",
              "\n",
              "    .colab-df-buttons div {\n",
              "      margin-bottom: 4px;\n",
              "    }\n",
              "\n",
              "    [theme=dark] .colab-df-convert {\n",
              "      background-color: #3B4455;\n",
              "      fill: #D2E3FC;\n",
              "    }\n",
              "\n",
              "    [theme=dark] .colab-df-convert:hover {\n",
              "      background-color: #434B5C;\n",
              "      box-shadow: 0px 1px 3px 1px rgba(0, 0, 0, 0.15);\n",
              "      filter: drop-shadow(0px 1px 2px rgba(0, 0, 0, 0.3));\n",
              "      fill: #FFFFFF;\n",
              "    }\n",
              "  </style>\n",
              "\n",
              "    <script>\n",
              "      const buttonEl =\n",
              "        document.querySelector('#df-7fb14309-21f2-44fe-83a3-32e69538d330 button.colab-df-convert');\n",
              "      buttonEl.style.display =\n",
              "        google.colab.kernel.accessAllowed ? 'block' : 'none';\n",
              "\n",
              "      async function convertToInteractive(key) {\n",
              "        const element = document.querySelector('#df-7fb14309-21f2-44fe-83a3-32e69538d330');\n",
              "        const dataTable =\n",
              "          await google.colab.kernel.invokeFunction('convertToInteractive',\n",
              "                                                    [key], {});\n",
              "        if (!dataTable) return;\n",
              "\n",
              "        const docLinkHtml = 'Like what you see? Visit the ' +\n",
              "          '<a target=\"_blank\" href=https://colab.research.google.com/notebooks/data_table.ipynb>data table notebook</a>'\n",
              "          + ' to learn more about interactive tables.';\n",
              "        element.innerHTML = '';\n",
              "        dataTable['output_type'] = 'display_data';\n",
              "        await google.colab.output.renderOutput(dataTable, element);\n",
              "        const docLink = document.createElement('div');\n",
              "        docLink.innerHTML = docLinkHtml;\n",
              "        element.appendChild(docLink);\n",
              "      }\n",
              "    </script>\n",
              "  </div>\n",
              "\n",
              "\n",
              "    </div>\n",
              "  </div>\n"
            ],
            "application/vnd.google.colaboratory.intrinsic+json": {
              "type": "dataframe",
              "summary": "{\n  \"name\": \"data\",\n  \"rows\": 1,\n  \"fields\": [\n    {\n      \"column\": \"name\",\n      \"properties\": {\n        \"dtype\": \"string\",\n        \"num_unique_values\": 1,\n        \"samples\": [\n          \"B\"\n        ],\n        \"semantic_type\": \"\",\n        \"description\": \"\"\n      }\n    },\n    {\n      \"column\": \"\\u6570\\u5b66\",\n      \"properties\": {\n        \"dtype\": \"number\",\n        \"std\": null,\n        \"min\": 15,\n        \"max\": 15,\n        \"num_unique_values\": 1,\n        \"samples\": [\n          15\n        ],\n        \"semantic_type\": \"\",\n        \"description\": \"\"\n      }\n    },\n    {\n      \"column\": \"\\u82f1\\u8a9e\",\n      \"properties\": {\n        \"dtype\": \"number\",\n        \"std\": null,\n        \"min\": 70,\n        \"max\": 70,\n        \"num_unique_values\": 1,\n        \"samples\": [\n          70\n        ],\n        \"semantic_type\": \"\",\n        \"description\": \"\"\n      }\n    },\n    {\n      \"column\": \"\\u56fd\\u8a9e\",\n      \"properties\": {\n        \"dtype\": \"number\",\n        \"std\": null,\n        \"min\": 60,\n        \"max\": 60,\n        \"num_unique_values\": 1,\n        \"samples\": [\n          60\n        ],\n        \"semantic_type\": \"\",\n        \"description\": \"\"\n      }\n    }\n  ]\n}"
            }
          },
          "metadata": {},
          "execution_count": 54
        }
      ],
      "source": [
        "data.loc[data['数学'] < 30]"
      ]
    },
    {
      "cell_type": "markdown",
      "metadata": {
        "id": "WFOF3gEGQTjM"
      },
      "source": [
        "### 3.4 「data変数の中で国語が60点ピッタリの人が何人いるか表示してください。」![nebusoku_doctor_man.jpg](data:image/jpeg;base64,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)"
      ]
    },
    {
      "cell_type": "code",
      "execution_count": 61,
      "metadata": {
        "id": "29DgesYVQTjM",
        "colab": {
          "base_uri": "https://localhost:8080/"
        },
        "outputId": "38b9da7b-0a47-4b3e-ded8-aa3ff3831c6a"
      },
      "outputs": [
        {
          "output_type": "execute_result",
          "data": {
            "text/plain": [
              "name    3\n",
              "数学      3\n",
              "英語      3\n",
              "国語      3\n",
              "dtype: int64"
            ]
          },
          "metadata": {},
          "execution_count": 61
        }
      ],
      "source": []
    },
    {
      "cell_type": "markdown",
      "metadata": {
        "id": "jZZZ98CaQTjM"
      },
      "source": [
        "#### 3.5 「data変数の中で数学が50点以上の人が何人いるか表示してください。」![nebusoku_doctor_man.jpg](data:image/jpeg;base64,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)"
      ]
    },
    {
      "cell_type": "code",
      "execution_count": 62,
      "metadata": {
        "id": "tzmTTVWNQTjM",
        "colab": {
          "base_uri": "https://localhost:8080/",
          "height": 143
        },
        "outputId": "445c7afb-4a44-40cb-d3b9-241d1e551fed"
      },
      "outputs": [
        {
          "output_type": "execute_result",
          "data": {
            "text/plain": [
              "  name  数学  英語  国語\n",
              "0    A  80  80  90\n",
              "2    C  90  50  60\n",
              "3    D  50  65  60"
            ],
            "text/html": [
              "\n",
              "  <div id=\"df-46c20b4e-37d3-4cdb-84af-794dbbc94316\" class=\"colab-df-container\">\n",
              "    <div>\n",
              "<style scoped>\n",
              "    .dataframe tbody tr th:only-of-type {\n",
              "        vertical-align: middle;\n",
              "    }\n",
              "\n",
              "    .dataframe tbody tr th {\n",
              "        vertical-align: top;\n",
              "    }\n",
              "\n",
              "    .dataframe thead th {\n",
              "        text-align: right;\n",
              "    }\n",
              "</style>\n",
              "<table border=\"1\" class=\"dataframe\">\n",
              "  <thead>\n",
              "    <tr style=\"text-align: right;\">\n",
              "      <th></th>\n",
              "      <th>name</th>\n",
              "      <th>数学</th>\n",
              "      <th>英語</th>\n",
              "      <th>国語</th>\n",
              "    </tr>\n",
              "  </thead>\n",
              "  <tbody>\n",
              "    <tr>\n",
              "      <th>0</th>\n",
              "      <td>A</td>\n",
              "      <td>80</td>\n",
              "      <td>80</td>\n",
              "      <td>90</td>\n",
              "    </tr>\n",
              "    <tr>\n",
              "      <th>2</th>\n",
              "      <td>C</td>\n",
              "      <td>90</td>\n",
              "      <td>50</td>\n",
              "      <td>60</td>\n",
              "    </tr>\n",
              "    <tr>\n",
              "      <th>3</th>\n",
              "      <td>D</td>\n",
              "      <td>50</td>\n",
              "      <td>65</td>\n",
              "      <td>60</td>\n",
              "    </tr>\n",
              "  </tbody>\n",
              "</table>\n",
              "</div>\n",
              "    <div class=\"colab-df-buttons\">\n",
              "\n",
              "  <div class=\"colab-df-container\">\n",
              "    <button class=\"colab-df-convert\" onclick=\"convertToInteractive('df-46c20b4e-37d3-4cdb-84af-794dbbc94316')\"\n",
              "            title=\"Convert this dataframe to an interactive table.\"\n",
              "            style=\"display:none;\">\n",
              "\n",
              "  <svg xmlns=\"http://www.w3.org/2000/svg\" height=\"24px\" viewBox=\"0 -960 960 960\">\n",
              "    <path d=\"M120-120v-720h720v720H120Zm60-500h600v-160H180v160Zm220 220h160v-160H400v160Zm0 220h160v-160H400v160ZM180-400h160v-160H180v160Zm440 0h160v-160H620v160ZM180-180h160v-160H180v160Zm440 0h160v-160H620v160Z\"/>\n",
              "  </svg>\n",
              "    </button>\n",
              "\n",
              "  <style>\n",
              "    .colab-df-container {\n",
              "      display:flex;\n",
              "      gap: 12px;\n",
              "    }\n",
              "\n",
              "    .colab-df-convert {\n",
              "      background-color: #E8F0FE;\n",
              "      border: none;\n",
              "      border-radius: 50%;\n",
              "      cursor: pointer;\n",
              "      display: none;\n",
              "      fill: #1967D2;\n",
              "      height: 32px;\n",
              "      padding: 0 0 0 0;\n",
              "      width: 32px;\n",
              "    }\n",
              "\n",
              "    .colab-df-convert:hover {\n",
              "      background-color: #E2EBFA;\n",
              "      box-shadow: 0px 1px 2px rgba(60, 64, 67, 0.3), 0px 1px 3px 1px rgba(60, 64, 67, 0.15);\n",
              "      fill: #174EA6;\n",
              "    }\n",
              "\n",
              "    .colab-df-buttons div {\n",
              "      margin-bottom: 4px;\n",
              "    }\n",
              "\n",
              "    [theme=dark] .colab-df-convert {\n",
              "      background-color: #3B4455;\n",
              "      fill: #D2E3FC;\n",
              "    }\n",
              "\n",
              "    [theme=dark] .colab-df-convert:hover {\n",
              "      background-color: #434B5C;\n",
              "      box-shadow: 0px 1px 3px 1px rgba(0, 0, 0, 0.15);\n",
              "      filter: drop-shadow(0px 1px 2px rgba(0, 0, 0, 0.3));\n",
              "      fill: #FFFFFF;\n",
              "    }\n",
              "  </style>\n",
              "\n",
              "    <script>\n",
              "      const buttonEl =\n",
              "        document.querySelector('#df-46c20b4e-37d3-4cdb-84af-794dbbc94316 button.colab-df-convert');\n",
              "      buttonEl.style.display =\n",
              "        google.colab.kernel.accessAllowed ? 'block' : 'none';\n",
              "\n",
              "      async function convertToInteractive(key) {\n",
              "        const element = document.querySelector('#df-46c20b4e-37d3-4cdb-84af-794dbbc94316');\n",
              "        const dataTable =\n",
              "          await google.colab.kernel.invokeFunction('convertToInteractive',\n",
              "                                                    [key], {});\n",
              "        if (!dataTable) return;\n",
              "\n",
              "        const docLinkHtml = 'Like what you see? Visit the ' +\n",
              "          '<a target=\"_blank\" href=https://colab.research.google.com/notebooks/data_table.ipynb>data table notebook</a>'\n",
              "          + ' to learn more about interactive tables.';\n",
              "        element.innerHTML = '';\n",
              "        dataTable['output_type'] = 'display_data';\n",
              "        await google.colab.output.renderOutput(dataTable, element);\n",
              "        const docLink = document.createElement('div');\n",
              "        docLink.innerHTML = docLinkHtml;\n",
              "        element.appendChild(docLink);\n",
              "      }\n",
              "    </script>\n",
              "  </div>\n",
              "\n",
              "\n",
              "<div id=\"df-2e6317db-ef61-4402-9f7c-5a96464bf3ca\">\n",
              "  <button class=\"colab-df-quickchart\" onclick=\"quickchart('df-2e6317db-ef61-4402-9f7c-5a96464bf3ca')\"\n",
              "            title=\"Suggest charts\"\n",
              "            style=\"display:none;\">\n",
              "\n",
              "<svg xmlns=\"http://www.w3.org/2000/svg\" height=\"24px\"viewBox=\"0 0 24 24\"\n",
              "     width=\"24px\">\n",
              "    <g>\n",
              "        <path d=\"M19 3H5c-1.1 0-2 .9-2 2v14c0 1.1.9 2 2 2h14c1.1 0 2-.9 2-2V5c0-1.1-.9-2-2-2zM9 17H7v-7h2v7zm4 0h-2V7h2v10zm4 0h-2v-4h2v4z\"/>\n",
              "    </g>\n",
              "</svg>\n",
              "  </button>\n",
              "\n",
              "<style>\n",
              "  .colab-df-quickchart {\n",
              "      --bg-color: #E8F0FE;\n",
              "      --fill-color: #1967D2;\n",
              "      --hover-bg-color: #E2EBFA;\n",
              "      --hover-fill-color: #174EA6;\n",
              "      --disabled-fill-color: #AAA;\n",
              "      --disabled-bg-color: #DDD;\n",
              "  }\n",
              "\n",
              "  [theme=dark] .colab-df-quickchart {\n",
              "      --bg-color: #3B4455;\n",
              "      --fill-color: #D2E3FC;\n",
              "      --hover-bg-color: #434B5C;\n",
              "      --hover-fill-color: #FFFFFF;\n",
              "      --disabled-bg-color: #3B4455;\n",
              "      --disabled-fill-color: #666;\n",
              "  }\n",
              "\n",
              "  .colab-df-quickchart {\n",
              "    background-color: var(--bg-color);\n",
              "    border: none;\n",
              "    border-radius: 50%;\n",
              "    cursor: pointer;\n",
              "    display: none;\n",
              "    fill: var(--fill-color);\n",
              "    height: 32px;\n",
              "    padding: 0;\n",
              "    width: 32px;\n",
              "  }\n",
              "\n",
              "  .colab-df-quickchart:hover {\n",
              "    background-color: var(--hover-bg-color);\n",
              "    box-shadow: 0 1px 2px rgba(60, 64, 67, 0.3), 0 1px 3px 1px rgba(60, 64, 67, 0.15);\n",
              "    fill: var(--button-hover-fill-color);\n",
              "  }\n",
              "\n",
              "  .colab-df-quickchart-complete:disabled,\n",
              "  .colab-df-quickchart-complete:disabled:hover {\n",
              "    background-color: var(--disabled-bg-color);\n",
              "    fill: var(--disabled-fill-color);\n",
              "    box-shadow: none;\n",
              "  }\n",
              "\n",
              "  .colab-df-spinner {\n",
              "    border: 2px solid var(--fill-color);\n",
              "    border-color: transparent;\n",
              "    border-bottom-color: var(--fill-color);\n",
              "    animation:\n",
              "      spin 1s steps(1) infinite;\n",
              "  }\n",
              "\n",
              "  @keyframes spin {\n",
              "    0% {\n",
              "      border-color: transparent;\n",
              "      border-bottom-color: var(--fill-color);\n",
              "      border-left-color: var(--fill-color);\n",
              "    }\n",
              "    20% {\n",
              "      border-color: transparent;\n",
              "      border-left-color: var(--fill-color);\n",
              "      border-top-color: var(--fill-color);\n",
              "    }\n",
              "    30% {\n",
              "      border-color: transparent;\n",
              "      border-left-color: var(--fill-color);\n",
              "      border-top-color: var(--fill-color);\n",
              "      border-right-color: var(--fill-color);\n",
              "    }\n",
              "    40% {\n",
              "      border-color: transparent;\n",
              "      border-right-color: var(--fill-color);\n",
              "      border-top-color: var(--fill-color);\n",
              "    }\n",
              "    60% {\n",
              "      border-color: transparent;\n",
              "      border-right-color: var(--fill-color);\n",
              "    }\n",
              "    80% {\n",
              "      border-color: transparent;\n",
              "      border-right-color: var(--fill-color);\n",
              "      border-bottom-color: var(--fill-color);\n",
              "    }\n",
              "    90% {\n",
              "      border-color: transparent;\n",
              "      border-bottom-color: var(--fill-color);\n",
              "    }\n",
              "  }\n",
              "</style>\n",
              "\n",
              "  <script>\n",
              "    async function quickchart(key) {\n",
              "      const quickchartButtonEl =\n",
              "        document.querySelector('#' + key + ' button');\n",
              "      quickchartButtonEl.disabled = true;  // To prevent multiple clicks.\n",
              "      quickchartButtonEl.classList.add('colab-df-spinner');\n",
              "      try {\n",
              "        const charts = await google.colab.kernel.invokeFunction(\n",
              "            'suggestCharts', [key], {});\n",
              "      } catch (error) {\n",
              "        console.error('Error during call to suggestCharts:', error);\n",
              "      }\n",
              "      quickchartButtonEl.classList.remove('colab-df-spinner');\n",
              "      quickchartButtonEl.classList.add('colab-df-quickchart-complete');\n",
              "    }\n",
              "    (() => {\n",
              "      let quickchartButtonEl =\n",
              "        document.querySelector('#df-2e6317db-ef61-4402-9f7c-5a96464bf3ca button');\n",
              "      quickchartButtonEl.style.display =\n",
              "        google.colab.kernel.accessAllowed ? 'block' : 'none';\n",
              "    })();\n",
              "  </script>\n",
              "</div>\n",
              "\n",
              "    </div>\n",
              "  </div>\n"
            ],
            "application/vnd.google.colaboratory.intrinsic+json": {
              "type": "dataframe",
              "summary": "{\n  \"name\": \"data\",\n  \"rows\": 3,\n  \"fields\": [\n    {\n      \"column\": \"name\",\n      \"properties\": {\n        \"dtype\": \"string\",\n        \"num_unique_values\": 3,\n        \"samples\": [\n          \"A\",\n          \"C\",\n          \"D\"\n        ],\n        \"semantic_type\": \"\",\n        \"description\": \"\"\n      }\n    },\n    {\n      \"column\": \"\\u6570\\u5b66\",\n      \"properties\": {\n        \"dtype\": \"number\",\n        \"std\": 20,\n        \"min\": 50,\n        \"max\": 90,\n        \"num_unique_values\": 3,\n        \"samples\": [\n          80,\n          90,\n          50\n        ],\n        \"semantic_type\": \"\",\n        \"description\": \"\"\n      }\n    },\n    {\n      \"column\": \"\\u82f1\\u8a9e\",\n      \"properties\": {\n        \"dtype\": \"number\",\n        \"std\": 15,\n        \"min\": 50,\n        \"max\": 80,\n        \"num_unique_values\": 3,\n        \"samples\": [\n          80,\n          50,\n          65\n        ],\n        \"semantic_type\": \"\",\n        \"description\": \"\"\n      }\n    },\n    {\n      \"column\": \"\\u56fd\\u8a9e\",\n      \"properties\": {\n        \"dtype\": \"number\",\n        \"std\": 17,\n        \"min\": 60,\n        \"max\": 90,\n        \"num_unique_values\": 2,\n        \"samples\": [\n          60,\n          90\n        ],\n        \"semantic_type\": \"\",\n        \"description\": \"\"\n      }\n    }\n  ]\n}"
            }
          },
          "metadata": {},
          "execution_count": 62
        }
      ],
      "source": []
    },
    {
      "cell_type": "markdown",
      "metadata": {
        "id": "vPh21QxUQTjM"
      },
      "source": [
        "#### 3.6「data変数の中で国語の点数が1番高い人を表示してください。」![nebusoku_doctor_man.jpg](data:image/jpeg;base64,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)\n",
        "\n"
      ]
    },
    {
      "cell_type": "code",
      "execution_count": null,
      "metadata": {
        "id": "ib4HHJHiQTjM"
      },
      "outputs": [],
      "source": []
    },
    {
      "cell_type": "markdown",
      "metadata": {
        "id": "tfy3Xm-lQTjN"
      },
      "source": [
        "#### 3.7 「data変数の中で全ての人の国語の点数を表示してください。」"
      ]
    },
    {
      "cell_type": "code",
      "execution_count": 64,
      "metadata": {
        "id": "L-8ZHt5fQTjN",
        "colab": {
          "base_uri": "https://localhost:8080/"
        },
        "outputId": "46fb3558-baf8-4f6b-bbc7-22d95668f571"
      },
      "outputs": [
        {
          "output_type": "execute_result",
          "data": {
            "text/plain": [
              "0    90\n",
              "1    60\n",
              "2    60\n",
              "3    60\n",
              "Name: 国語, dtype: int64"
            ]
          },
          "metadata": {},
          "execution_count": 64
        }
      ],
      "source": [
        "data.loc[:, '国語']"
      ]
    },
    {
      "cell_type": "markdown",
      "metadata": {
        "id": "8rWttSh1QTjN"
      },
      "source": [
        "#### 3.8 「data変数の中で全ての人の国語と数学の点数を表示してください。」"
      ]
    },
    {
      "cell_type": "code",
      "execution_count": null,
      "metadata": {
        "id": "dOGa5sT6QTjN"
      },
      "outputs": [],
      "source": []
    },
    {
      "cell_type": "markdown",
      "metadata": {
        "id": "E0k1-8VxQTjN"
      },
      "source": [
        "#### 3.9 「data変数のカラムの情報を確認してください。」"
      ]
    },
    {
      "cell_type": "code",
      "execution_count": null,
      "metadata": {
        "id": "LHwV4wspQTjN"
      },
      "outputs": [],
      "source": []
    },
    {
      "cell_type": "markdown",
      "metadata": {
        "id": "cZ3TCtBCQTjO"
      },
      "source": [
        "#### 3.10 「data変数の中で2行目と3行目のみ表示してください。(indexは0番目が1行目であることに注意)」"
      ]
    },
    {
      "cell_type": "code",
      "execution_count": null,
      "metadata": {
        "id": "-H9wX4abQTjO"
      },
      "outputs": [],
      "source": []
    },
    {
      "cell_type": "markdown",
      "metadata": {
        "id": "Xa59aXPOQTjO"
      },
      "source": [
        "#### 3.11 「data変数の中で2行目と3行目且つ0列目と1列目を表示してください。(indexは0番目が1行目であることに注意)」"
      ]
    },
    {
      "cell_type": "code",
      "execution_count": null,
      "metadata": {
        "id": "-cMW23xvQTjO"
      },
      "outputs": [],
      "source": []
    },
    {
      "cell_type": "markdown",
      "metadata": {
        "id": "fmOr_zzbQTjO"
      },
      "source": [
        "### 4. データの集計方法について学習します。（7問）"
      ]
    },
    {
      "cell_type": "markdown",
      "metadata": {
        "id": "cUaELPYcQTjP"
      },
      "source": [
        "#### 4.1 「dataの下にe_dataを連結させて下さい。dataの中身を確認してください。」"
      ]
    },
    {
      "cell_type": "code",
      "execution_count": null,
      "metadata": {
        "id": "CT9imV-JQTjP"
      },
      "outputs": [],
      "source": []
    },
    {
      "cell_type": "markdown",
      "metadata": {
        "id": "UPEJ078FQTjP"
      },
      "source": [
        "#### 4.2 「dataのindexを振り直してください。」"
      ]
    },
    {
      "cell_type": "code",
      "execution_count": null,
      "metadata": {
        "id": "vU5Vhz3rQTjP"
      },
      "outputs": [],
      "source": []
    },
    {
      "cell_type": "markdown",
      "metadata": {
        "id": "1_wM4hKrQTjP"
      },
      "source": [
        "#### 4.3 「dataの各カラムの合計値を表示して下さい。」"
      ]
    },
    {
      "cell_type": "code",
      "execution_count": null,
      "metadata": {
        "id": "ScQZ1tvZQTjP"
      },
      "outputs": [],
      "source": []
    },
    {
      "cell_type": "markdown",
      "metadata": {
        "id": "QEwLsHiRQTjQ"
      },
      "source": [
        "#### 4.4 「dataの各行の合計値を表示して下さい。」"
      ]
    },
    {
      "cell_type": "code",
      "execution_count": null,
      "metadata": {
        "id": "Jvm09-hFQTjQ"
      },
      "outputs": [],
      "source": []
    },
    {
      "cell_type": "markdown",
      "metadata": {
        "id": "BRkrzyBVQTjQ"
      },
      "source": [
        "#### 4.5 「dataの各行の平均値を表示して下さい。」"
      ]
    },
    {
      "cell_type": "code",
      "execution_count": null,
      "metadata": {
        "id": "Loosiwv0QTjQ"
      },
      "outputs": [],
      "source": []
    },
    {
      "cell_type": "markdown",
      "metadata": {
        "id": "J5V1UxDEQTjQ"
      },
      "source": [
        "#### 4.6 「data変数のカラムの統計量を算出してください。（小数点第1桁まで）」"
      ]
    },
    {
      "cell_type": "code",
      "execution_count": null,
      "metadata": {
        "id": "JcxF--z5QTjR"
      },
      "outputs": [],
      "source": []
    },
    {
      "cell_type": "markdown",
      "metadata": {
        "id": "07IlufM5QTjR"
      },
      "source": [
        "#### 4.7 「data変数の中の各カラムの相関係数を算出してください。」"
      ]
    },
    {
      "cell_type": "code",
      "execution_count": null,
      "metadata": {
        "id": "A_ICZusVQTjR"
      },
      "outputs": [],
      "source": []
    },
    {
      "cell_type": "markdown",
      "metadata": {
        "id": "-KEEbpkRQTjR"
      },
      "source": [
        "### 5. データの整形方法について学習します。（13問）"
      ]
    },
    {
      "cell_type": "markdown",
      "metadata": {
        "id": "at97kenyQTjR"
      },
      "source": [
        "#### 5.1 「data変数の数学カラムのユニーク値を表示してください。」"
      ]
    },
    {
      "cell_type": "code",
      "execution_count": null,
      "metadata": {
        "id": "oGXzCwPBQTjR"
      },
      "outputs": [],
      "source": []
    },
    {
      "cell_type": "markdown",
      "metadata": {
        "id": "37eh2CAuQTjS"
      },
      "source": [
        "#### 5.2 「data変数の中で数学カラムの中に重複がないことを確認してください。（等式を作成してください。）」"
      ]
    },
    {
      "cell_type": "code",
      "execution_count": null,
      "metadata": {
        "id": "OMtNKHRzQTjS"
      },
      "outputs": [],
      "source": []
    },
    {
      "cell_type": "markdown",
      "metadata": {
        "id": "CjAHd1SBQTjS"
      },
      "source": [
        "#### 5.3 「data変数の中で国語カラムの中に重複があることを確認してください。（等式を作成してください。）」"
      ]
    },
    {
      "cell_type": "code",
      "execution_count": null,
      "metadata": {
        "id": "6yggTkpqQTjS"
      },
      "outputs": [],
      "source": []
    },
    {
      "cell_type": "markdown",
      "metadata": {
        "id": "90tYy1qjQTjS"
      },
      "source": [
        "#### 5.4 「data変数の中で国語の点数が60点の人が3人います。重複レコードを削除してください。」"
      ]
    },
    {
      "cell_type": "code",
      "execution_count": null,
      "metadata": {
        "id": "ICI6soG2QTjT"
      },
      "outputs": [],
      "source": []
    },
    {
      "cell_type": "markdown",
      "metadata": {
        "id": "Gy8EnQZiQTjT"
      },
      "source": [
        "#### 5.5 「data_2を表示して下さい。」"
      ]
    },
    {
      "cell_type": "code",
      "execution_count": null,
      "metadata": {
        "id": "XDhKqkMEQTjT"
      },
      "outputs": [],
      "source": []
    },
    {
      "cell_type": "markdown",
      "metadata": {
        "id": "YMdlwcW0QTjT"
      },
      "source": [
        "#### 5.6 「名前の行に重複が見られます。その行を削除してください。」"
      ]
    },
    {
      "cell_type": "code",
      "execution_count": null,
      "metadata": {
        "id": "WbMU7BTRQTjT"
      },
      "outputs": [],
      "source": []
    },
    {
      "cell_type": "markdown",
      "metadata": {
        "id": "7rRH0QMgQTjT"
      },
      "source": [
        "#### 5.7 「国語-数学の列を国語と数学に分けた列を作成してください。」"
      ]
    },
    {
      "cell_type": "code",
      "execution_count": null,
      "metadata": {
        "id": "Q8QX7qitQTjU"
      },
      "outputs": [],
      "source": []
    },
    {
      "cell_type": "markdown",
      "metadata": {
        "id": "6C9WvtXPQTjU"
      },
      "source": [
        "#### 5.8 「name、英語、国語、数学以外の列を削除してください。」"
      ]
    },
    {
      "cell_type": "code",
      "execution_count": null,
      "metadata": {
        "id": "2b1XaQI8QTjU"
      },
      "outputs": [],
      "source": []
    },
    {
      "cell_type": "markdown",
      "metadata": {
        "id": "DLc_05XOQTjU"
      },
      "source": [
        "#### 5.9 「Cの英語の点数にカンマが入っています。小数点になおしてください。」"
      ]
    },
    {
      "cell_type": "code",
      "execution_count": null,
      "metadata": {
        "id": "Hb4_VDM-QTjU"
      },
      "outputs": [],
      "source": []
    },
    {
      "cell_type": "markdown",
      "metadata": {
        "id": "78nm9oG4QTjU"
      },
      "source": [
        "#### 5.10 「data_2の各列の型(クラス、数字や文字列などの情報)を表示して下さい。」"
      ]
    },
    {
      "cell_type": "code",
      "execution_count": null,
      "metadata": {
        "id": "zy2mbhFeQTjV"
      },
      "outputs": [],
      "source": []
    },
    {
      "cell_type": "markdown",
      "metadata": {
        "id": "P5Qp2kzsQTjV"
      },
      "source": [
        "#### 5.11 「英語、国語、数学を数値型に変更し、データ型が変換されたことを確認してください。」"
      ]
    },
    {
      "cell_type": "code",
      "execution_count": null,
      "metadata": {
        "id": "-bnHkWacQTjV"
      },
      "outputs": [],
      "source": []
    },
    {
      "cell_type": "markdown",
      "metadata": {
        "id": "eqnXWhNCQTjV"
      },
      "source": [
        "#### 5.12 「欠損値がある行を表示して下さい。」"
      ]
    },
    {
      "cell_type": "code",
      "execution_count": null,
      "metadata": {
        "id": "HyNVjgEXQTjV"
      },
      "outputs": [],
      "source": []
    },
    {
      "cell_type": "markdown",
      "metadata": {
        "id": "odP99ZuXQTjV"
      },
      "source": [
        "#### 5.13 「欠損をもつ行を取り除いて下さい。」"
      ]
    },
    {
      "cell_type": "code",
      "execution_count": null,
      "metadata": {
        "id": "Eb_0uc8jQTjW"
      },
      "outputs": [],
      "source": []
    },
    {
      "cell_type": "markdown",
      "metadata": {
        "id": "R2OU_Ah-QTjW"
      },
      "source": [
        "### 6.文字列の処理（6問）"
      ]
    },
    {
      "cell_type": "markdown",
      "metadata": {
        "id": "U-p-vx-qQTjW"
      },
      "source": [
        "#### 6.1 「data_3を確認して下さい。」"
      ]
    },
    {
      "cell_type": "code",
      "execution_count": null,
      "metadata": {
        "id": "wWXAwFA0QTjW"
      },
      "outputs": [],
      "source": []
    },
    {
      "cell_type": "markdown",
      "metadata": {
        "id": "AZA2eZlrQTjW"
      },
      "source": [
        "#### 6.2 「経歴が、'学部卒'で終わる行を表示して下さい。」"
      ]
    },
    {
      "cell_type": "code",
      "execution_count": null,
      "metadata": {
        "id": "EYkaWF9nQTjX"
      },
      "outputs": [],
      "source": []
    },
    {
      "cell_type": "markdown",
      "metadata": {
        "id": "k3gVPtJUQTjX"
      },
      "source": [
        "#### 6.3 「性別が、'女'から始まる行を表示して下さい。」"
      ]
    },
    {
      "cell_type": "code",
      "execution_count": null,
      "metadata": {
        "id": "gHKLrdtHQTjX"
      },
      "outputs": [],
      "source": []
    },
    {
      "cell_type": "markdown",
      "metadata": {
        "id": "nTr2QiSMQTjX"
      },
      "source": [
        "#### 6.4 「特技が'野球'を含む行を表示して下さい。」"
      ]
    },
    {
      "cell_type": "code",
      "execution_count": null,
      "metadata": {
        "id": "ESCMgSeAQTjX"
      },
      "outputs": [],
      "source": []
    },
    {
      "cell_type": "markdown",
      "metadata": {
        "id": "om52LNveQTjX"
      },
      "source": [
        "#### 6.5 「経歴の'卒'を削除して下さい。」"
      ]
    },
    {
      "cell_type": "code",
      "execution_count": null,
      "metadata": {
        "id": "cBL2LkAmQTjY"
      },
      "outputs": [],
      "source": []
    },
    {
      "cell_type": "markdown",
      "metadata": {
        "id": "9qxuMcqXQTjY"
      },
      "source": [
        "#### 6.6 「特技の'野球をやっていた'の「をやっていた」を削除して下さい。」"
      ]
    },
    {
      "cell_type": "code",
      "execution_count": null,
      "metadata": {
        "id": "5dstfo_OQTjY"
      },
      "outputs": [],
      "source": []
    }
  ],
  "metadata": {
    "kernelspec": {
      "display_name": "Python 3",
      "language": "python",
      "name": "python3"
    },
    "language_info": {
      "codemirror_mode": {
        "name": "ipython",
        "version": 3
      },
      "file_extension": ".py",
      "mimetype": "text/x-python",
      "name": "python",
      "nbconvert_exporter": "python",
      "pygments_lexer": "ipython3",
      "version": "3.6.7"
    },
    "toc": {
      "base_numbering": 1,
      "nav_menu": {},
      "number_sections": true,
      "sideBar": true,
      "skip_h1_title": false,
      "title_cell": "Table of Contents",
      "title_sidebar": "Contents",
      "toc_cell": false,
      "toc_position": {},
      "toc_section_display": true,
      "toc_window_display": false
    },
    "varInspector": {
      "cols": {
        "lenName": 16,
        "lenType": 16,
        "lenVar": 40
      },
      "kernels_config": {
        "python": {
          "delete_cmd_postfix": "",
          "delete_cmd_prefix": "del ",
          "library": "var_list.py",
          "varRefreshCmd": "print(var_dic_list())"
        },
        "r": {
          "delete_cmd_postfix": ") ",
          "delete_cmd_prefix": "rm(",
          "library": "var_list.r",
          "varRefreshCmd": "cat(var_dic_list()) "
        }
      },
      "types_to_exclude": [
        "module",
        "function",
        "builtin_function_or_method",
        "instance",
        "_Feature"
      ],
      "window_display": false
    },
    "colab": {
      "provenance": [],
      "include_colab_link": true
    }
  },
  "nbformat": 4,
  "nbformat_minor": 0
}